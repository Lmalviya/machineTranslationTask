{
  "nbformat": 4,
  "nbformat_minor": 0,
  "metadata": {
    "colab": {
      "provenance": [],
      "gpuType": "T4",
      "authorship_tag": "ABX9TyMHGrEw0vJTdmARlZZ7CT4Y",
      "include_colab_link": true
    },
    "kernelspec": {
      "name": "python3",
      "display_name": "Python 3"
    },
    "language_info": {
      "name": "python"
    },
    "accelerator": "GPU"
  },
  "cells": [
    {
      "cell_type": "markdown",
      "metadata": {
        "id": "view-in-github",
        "colab_type": "text"
      },
      "source": [
        "<a href=\"https://colab.research.google.com/github/Lmalviya/machineTranslationTask/blob/main/TransformerFromScratch.ipynb\" target=\"_parent\"><img src=\"https://colab.research.google.com/assets/colab-badge.svg\" alt=\"Open In Colab\"/></a>"
      ]
    },
    {
      "cell_type": "markdown",
      "source": [
        "## scop of the notebook:\n",
        "  1. built vanila transformer from scretch\n",
        "  2. train it for languge tranlation english to italian\n",
        "  3. fot choosing the next token we build the greedy search and beam search\n"
      ],
      "metadata": {
        "id": "0MRmtg7fyhXO"
      }
    },
    {
      "cell_type": "markdown",
      "source": [
        "# Build Transformer from scretch"
      ],
      "metadata": {
        "id": "TRmZuHn6eZQQ"
      }
    },
    {
      "cell_type": "code",
      "execution_count": null,
      "metadata": {
        "id": "w2duzDHNxynY"
      },
      "outputs": [],
      "source": [
        "import torch\n",
        "import torch.nn as nn\n",
        "\n",
        "import math"
      ]
    },
    {
      "cell_type": "markdown",
      "source": [
        "### Word embedding"
      ],
      "metadata": {
        "id": "i000sBhRzFH4"
      }
    },
    {
      "cell_type": "code",
      "source": [
        "class WordEmbedding(nn.Module):\n",
        "  def __init__(self, d_model: int, vocab_size: int):\n",
        "    super().__init__()\n",
        "    # d_model: it is the embedding vector size\n",
        "    # vocab_size: number of words present into vocab\n",
        "\n",
        "    self.d_model = d_model\n",
        "    self.vocab_size = vocab_size\n",
        "    self.embedding = nn.Embedding(self.vocab_size, self.d_model)\n",
        "\n",
        "  def forward(self, x):\n",
        "    return self.embedding(x)*math.sqrt(self.d_model)  ## mention in the paper \"sqrt(self.d_model)\"\n"
      ],
      "metadata": {
        "id": "ZLLTo0xyyw0o"
      },
      "execution_count": null,
      "outputs": []
    },
    {
      "cell_type": "markdown",
      "source": [
        "### Postional Embedding"
      ],
      "metadata": {
        "id": "aVmtMO1I1ZeE"
      }
    },
    {
      "cell_type": "code",
      "source": [
        "class PostionalEmbedding(nn.Module):\n",
        "  def __init__(self, d_model: int, seq_len: int, dropout_p: float):\n",
        "    super().__init__()\n",
        "    # seq_len: number of tokens present in the input\n",
        "    # dropout: used for regularization\n",
        "\n",
        "    self.d_model = d_model\n",
        "    self.seq_len = seq_len\n",
        "    self.dropout = nn.Dropout(dropout_p)\n",
        "\n",
        "    # create a matrix of shape (seq_len, d_model)\n",
        "    pe = torch.zeros(self.seq_len, self.d_model) # postional embedding for each token\n",
        "\n",
        "    # create vector of shape (seq_len, 1)\n",
        "    position = torch.arange(0, seq_len, dtype=torch.float).unsqueeze(1)\n",
        "    div_term = torch.exp(torch.arange(0, d_model, 2).float()*(-math.log(10000.0)/d_model) )\n",
        "\n",
        "    # apply sin at even postion\n",
        "    pe[:, 0::2] = torch.sin(position * div_term) # sin(position * (10000 ** (2i / d_model))\n",
        "    pe[:, 1::2] = torch.cos(position * div_term) # cos(position * (10000 ** (2i / d_model))\n",
        "\n",
        "    # now we have to add the batch dim\n",
        "    pe = pe.unsqueeze(0) # (1, seq_len, d_model)\n",
        "\n",
        "    # now define the tensor into buffer\n",
        "    # when you have tensor which is not learnable parameter\n",
        "    # but you want to save when model is save, then you have to put it in register buffer\n",
        "    self.register_buffer('pe', pe)\n",
        "\n",
        "  def forward(self, x):\n",
        "    x = x + (self.pe[:, :x.size(1), :].requires_grad_(False))\n",
        "    return self.dropout(x)\n"
      ],
      "metadata": {
        "id": "6HIdZWLOywyh"
      },
      "execution_count": null,
      "outputs": []
    },
    {
      "cell_type": "markdown",
      "source": [
        "### Layer normalization"
      ],
      "metadata": {
        "id": "hPAQuyvFRDCC"
      }
    },
    {
      "cell_type": "code",
      "source": [
        "class LayerNorm(nn.Module):\n",
        "  def __init__(self, eps:float = 10**-6):\n",
        "    super().__init__()\n",
        "    # We also introduce two parameters, usually called gamma (multiplicative) and beta (additive)\n",
        "    # that introduce some fluctuations in the data, because maybe having all values between 0 and 1\n",
        "    # may be too restrictive for the network. The network will learn to tune these two parameters to\n",
        "    # introduce fluctuations when necessary.\n",
        "\n",
        "    self.eps = eps\n",
        "    self.gamma = nn.Parameter(torch.ones(1))  # multiplicative\n",
        "    self.beta = nn.Parameter(torch.zeros(1)) # Additative\n",
        "\n",
        "  def forward(self, x):\n",
        "    mean = x.mean(dim=-1, keepdim=True) #usually mean() remove the dim, to keep the dim we used the keepdim=True\n",
        "    std = x.std(dim=-1, keepdim=True)\n",
        "    return self.gamma*(x - mean)/(std + self.eps) + self.beta\n",
        "\n"
      ],
      "metadata": {
        "id": "waKplWzjRC0T"
      },
      "execution_count": null,
      "outputs": []
    },
    {
      "cell_type": "markdown",
      "source": [
        "### Feed forward block"
      ],
      "metadata": {
        "id": "R4mOntLQTLi3"
      }
    },
    {
      "cell_type": "code",
      "source": [
        "class FeedForwardBlock(nn.Module):\n",
        "  def __init__(self, d_model: int, d_ff: int, dropout_p: float =0.1):\n",
        "    super().__init__()\n",
        "\n",
        "    self.linear_1 = nn.Linear(d_model, d_ff) #W1 and B1\n",
        "    self.linear_2 = nn.Linear(d_ff, d_model) #W2 and B2\n",
        "\n",
        "    self.relu = nn.ReLU()\n",
        "    self.dropout = nn.Dropout(dropout_p)\n",
        "\n",
        "  def forward(self, x):\n",
        "    # input: (batch, seq_len, d_model) --> (batch, seq_len, d_ff) --> (batch, seq_len, d_model) output\n",
        "    return self.linear_2(self.dropout(self.relu(self.linear_1(x))))\n"
      ],
      "metadata": {
        "id": "XwKvn4Ifywv6"
      },
      "execution_count": null,
      "outputs": []
    },
    {
      "cell_type": "markdown",
      "source": [
        "### Multi-head Attention"
      ],
      "metadata": {
        "id": "ItBiW5j3U5VC"
      }
    },
    {
      "cell_type": "code",
      "source": [
        "class MultiheadAttentionBlock(nn.Module):\n",
        "  def __init__(self, d_model: int, head: int, dropout_p: float):\n",
        "    super().__init__()\n",
        "    # we take input and replecate into three vector each vector name as follows: key, query, value\n",
        "    # we three matrix caled: key_mul, query_mul, val_mul\n",
        "    # multiply each vectoer with its corresponding matrix and get output which we called key_hat_mat, query_hat_mat, value_hat_mat\n",
        "    # each vecter key_hat_mat, query_hat_mat, value_hat_mat divide alog the d_model dim\n",
        "    # means each head full access of the sequence but different part of each word\n",
        "\n",
        "    self.head = head\n",
        "    self.d_model = d_model\n",
        "    self.attention_score = None\n",
        "\n",
        "    # if condition fail print the message\n",
        "    assert d_model % head == 0,  'd_model is not divisible by head'\n",
        "\n",
        "    self.d_k = self.d_model // self.head\n",
        "    self.w_q = nn.Linear(d_model, d_model)\n",
        "    self.w_k = nn.Linear(d_model, d_model)\n",
        "    self.w_v = nn.Linear(d_model, d_model)\n",
        "\n",
        "    self.w_o = nn.Linear(d_model, d_model)\n",
        "    self.dropout = nn.Dropout(dropout_p)\n",
        "\n",
        "  @staticmethod\n",
        "  def attention(query, key, value, mask, dropout: nn.Dropout):\n",
        "    d_k = query.shape[-1]\n",
        "\n",
        "    attention_score = (query @ key.transpose(-2, -1))/math.sqrt(d_k)\n",
        "    if mask is not None:\n",
        "      attention_score.masked_fill_(mask == 0, -1e9) # In the mask where mask[i][j] == 0, replace -1e9 in the attention_score\n",
        "\n",
        "    attention_score = attention_score.softmax(dim = -1) # (batch, h, seq_len, seq_len)\n",
        "    if dropout is not None:\n",
        "      attention_score = dropout(attention_score)\n",
        "\n",
        "    return (attention_score @ value), attention_score\n",
        "\n",
        "  def forward(self, q, k, v, mask): #mask used to restrick some words to interect with other words\n",
        "    query = self.w_q(q) # (batch, seq_len, d_model) --> (batch, seq_len, d_model)\n",
        "    key  = self.w_k(k)\n",
        "    value = self.w_v(v)\n",
        "\n",
        "    # divid for multi head\n",
        "    # (batch, seq_len, d_model) --> (batch, seq_len, head, d_k) --> (batch, head, seq_len, d_k)\n",
        "    # Transpos because we want each head see all the tokens\n",
        "    query = query.view(query.shape[0], query.shape[1], self.head, self.d_k).transpose(1, 2)\n",
        "    key = key.view(key.shape[0], key.shape[1], self.head, self.d_k).transpose(1, 2)\n",
        "    value = value.view(value.shape[0], value.shape[1], self.head, self.d_k).transpose(1, 2)\n",
        "\n",
        "    x, self.attention_score  = MultiheadAttentionBlock.attention(query, key, value, mask, self.dropout)\n",
        "\n",
        "    # (batch, head, seq_len, d_k) --> (batch, seq_len, head, d_k) --> (batch, seq_len, d_model)\n",
        "    x = x.transpose(1, 2).contiguous().view(x.shape[0], -1, self.head*self.d_k) # contiguous() used, because we want contiguous memory allocation\n",
        "\n",
        "    # (batch, seq_len, d_model) --> (batch, seq_len, d_model)\n",
        "    return self.w_o(x)\n"
      ],
      "metadata": {
        "id": "5doPBFiQywuG"
      },
      "execution_count": null,
      "outputs": []
    },
    {
      "cell_type": "markdown",
      "source": [
        "## Residual connection"
      ],
      "metadata": {
        "id": "TD8RDP9ZBQ7u"
      }
    },
    {
      "cell_type": "code",
      "source": [
        "class ResidualConnection(nn.Module):\n",
        "  def __init__(self, dropout_p: float):\n",
        "    super().__init__()\n",
        "    self.dropout = nn.Dropout(dropout_p)\n",
        "    self.norm = LayerNorm()\n",
        "\n",
        "  def forward(self, x, sublayer):\n",
        "    return x + self.dropout(sublayer(self.norm(x)))"
      ],
      "metadata": {
        "id": "C_Kowq9iywrw"
      },
      "execution_count": null,
      "outputs": []
    },
    {
      "cell_type": "markdown",
      "source": [
        "## Encoder Block"
      ],
      "metadata": {
        "id": "hJTqnBWTCJfj"
      }
    },
    {
      "cell_type": "code",
      "source": [
        "class EncoderBlock(nn.Module):\n",
        "  def __init__(self, self_attention_block: MultiheadAttentionBlock, feed_forward_block: FeedForwardBlock, dropout_p: float):\n",
        "    super().__init__()\n",
        "    self.self_attention_block  = self_attention_block\n",
        "    self.feed_forward_block = feed_forward_block\n",
        "    self.residualConnection = nn.ModuleList([ResidualConnection(dropout_p) for _ in range(2)])\n",
        "\n",
        "  def forward(self, x, src_mask):\n",
        "    x = self.residualConnection[0](x, lambda x: self.self_attention_block(x, x, x, src_mask))\n",
        "    x = self.residualConnection[1](x, self.feed_forward_block)\n",
        "    return x\n"
      ],
      "metadata": {
        "id": "wNMEblNjywpq"
      },
      "execution_count": null,
      "outputs": []
    },
    {
      "cell_type": "markdown",
      "source": [
        "## Encoder"
      ],
      "metadata": {
        "id": "sjE8TY5rKBRc"
      }
    },
    {
      "cell_type": "code",
      "source": [
        "class Encoder(nn.Module):\n",
        "  def __init__(self, layers: nn.ModuleList):\n",
        "    super().__init__()\n",
        "    self.layers = layers\n",
        "    self.norm = LayerNorm()\n",
        "\n",
        "  def forward(self, x, mask):\n",
        "    for layer in self.layers:\n",
        "      x = layer(x, mask)\n",
        "    return self.norm(x)\n"
      ],
      "metadata": {
        "id": "IGpqhTDsywnE"
      },
      "execution_count": null,
      "outputs": []
    },
    {
      "cell_type": "markdown",
      "source": [
        "## Decoder Block"
      ],
      "metadata": {
        "id": "W8MbfSJhOXka"
      }
    },
    {
      "cell_type": "code",
      "source": [
        "class DecoderBlock(nn.Module):\n",
        "  def __init__(self, self_attention_block: MultiheadAttentionBlock, cross_attention_block: MultiheadAttentionBlock, feed_forward_block: FeedForwardBlock, dropout_p: float):\n",
        "    super().__init__()\n",
        "    self.self_attention_block = self_attention_block\n",
        "    self.cross_attention_block = cross_attention_block\n",
        "    self.feed_forward_block = feed_forward_block\n",
        "    self.residualConnection = nn.ModuleList([ResidualConnection(dropout_p) for _ in range(3)])\n",
        "    self.dropout = nn.Dropout(dropout_p)\n",
        "\n",
        "  def forward(self, x, encoder_output, src_mask, tgt_mask):\n",
        "    # src_mask: it is for source language\n",
        "    # tgt_mask: it is for target language\n",
        "\n",
        "    x = self.residualConnection[0](x, lambda x: self.self_attention_block(x, x, x, tgt_mask))\n",
        "    x = self.residualConnection[1](x, lambda x: self.cross_attention_block(x, encoder_output, encoder_output, src_mask)) # query comming from the decoder and key and value comming from the encoder\n",
        "    x = self.residualConnection[2](x, self.feed_forward_block)\n",
        "    return x\n"
      ],
      "metadata": {
        "id": "mYOffJzCywjL"
      },
      "execution_count": null,
      "outputs": []
    },
    {
      "cell_type": "markdown",
      "source": [
        "### Decoder block"
      ],
      "metadata": {
        "id": "8r7LZQMBTR24"
      }
    },
    {
      "cell_type": "code",
      "source": [
        "class Decoder(nn.Module):\n",
        "  def __init__(self, layers: nn.ModuleList):\n",
        "    super().__init__()\n",
        "    self.layers = layers\n",
        "    self.norm = LayerNorm()\n",
        "\n",
        "  def forward(self, x, encoder_output, src_mask, tgt_mask):\n",
        "    for layer in self.layers:\n",
        "      x = layer(x, encoder_output, src_mask, tgt_mask)\n",
        "    return self.norm(x)"
      ],
      "metadata": {
        "id": "ovNBariHywhE"
      },
      "execution_count": null,
      "outputs": []
    },
    {
      "cell_type": "markdown",
      "source": [
        "### Last decoder output layer (projection layer)"
      ],
      "metadata": {
        "id": "d7akBO2tUdE6"
      }
    },
    {
      "cell_type": "code",
      "source": [
        "class ProjectionLayer(nn.Module):\n",
        "  def __init__(self, d_model: int, vocab_size: int):\n",
        "    super().__init__()\n",
        "    self.proj = nn.Linear(d_model, vocab_size)\n",
        "\n",
        "  def forward(self, x):\n",
        "    # (batch, seq_len, d_model) --> (batch, seq_len, vocab_size)\n",
        "    return torch.log_softmax(self.proj(x), dim = -1) # log_softmax: first apply softmax and then apply log on it\n"
      ],
      "metadata": {
        "id": "zeMXCNWJywfI"
      },
      "execution_count": null,
      "outputs": []
    },
    {
      "cell_type": "markdown",
      "source": [
        "### Transformer\n"
      ],
      "metadata": {
        "id": "WxkgwCWqVi-I"
      }
    },
    {
      "cell_type": "code",
      "source": [
        "class Transformer(nn.Module):\n",
        "  def __init__(self, encoder: Encoder, decoder: Decoder, src_embedding: WordEmbedding, tgt_embedding: WordEmbedding, src_pos: PostionalEmbedding, tgt_pos: PostionalEmbedding, proj: ProjectionLayer):\n",
        "    super().__init__()\n",
        "    self.encoder = encoder\n",
        "    self.decoder = decoder\n",
        "    self.src_embed = src_embedding\n",
        "    self.tgt_embed = tgt_embedding\n",
        "    self.src_pos = src_pos\n",
        "    self.tgt_pos = tgt_pos\n",
        "    self.projectionLayer = proj\n",
        "\n",
        "  def encode(self, src, src_mask):\n",
        "    src = self.src_embed(src)\n",
        "    src = self.src_pos(src)\n",
        "    return self.encoder(src, src_mask)\n",
        "\n",
        "  def decode(self, encoder_output, src_mask, tgt, tgt_mask):\n",
        "    tgt = self.tgt_embed(tgt)\n",
        "    tgt = self.tgt_pos(tgt)\n",
        "    return self.decoder(tgt, encoder_output, src_mask, tgt_mask)\n",
        "\n",
        "  def projection(self, x):\n",
        "    return self.projectionLayer(x)\n"
      ],
      "metadata": {
        "id": "gekhjNtpVmeU"
      },
      "execution_count": null,
      "outputs": []
    },
    {
      "cell_type": "markdown",
      "source": [
        "## Build Tranformer"
      ],
      "metadata": {
        "id": "lCjfPCuOZCf1"
      }
    },
    {
      "cell_type": "code",
      "source": [
        "def buildTransformer(src_vocab_size: int, tgt_vocab_size: int, src_seq_len: int, tgt_seq_len: int, d_model: int = 512, head: int= 8, d_ff: int= 2048, N: int=6, dropout_p: float = 0.1):\n",
        "  # create source and target embedding\n",
        "  src_embedding = WordEmbedding(d_model, src_vocab_size)\n",
        "  tgt_embedding = WordEmbedding(d_model, tgt_vocab_size)\n",
        "\n",
        "  # create postional embedding for source and target\n",
        "  src_pos_embed = PostionalEmbedding(d_model, src_seq_len, dropout_p)\n",
        "  tgt_pos_embed = PostionalEmbedding(d_model, tgt_seq_len, dropout_p)\n",
        "\n",
        "  EncoderBlocks = []\n",
        "  for _ in range(N):\n",
        "    encoder_self_attention = MultiheadAttentionBlock(d_model, head, dropout_p)\n",
        "    feed_forward = FeedForwardBlock(d_model, d_ff, dropout_p)\n",
        "    encoder_block = EncoderBlock(encoder_self_attention, feed_forward, dropout_p)\n",
        "    EncoderBlocks.append(encoder_block)\n",
        "\n",
        "  DecoderBlocks = []\n",
        "  for _ in range(N):\n",
        "    decoder_self_attention = MultiheadAttentionBlock(d_model, head, dropout_p)\n",
        "    decoder_cross_attention = MultiheadAttentionBlock(d_model, head, dropout_p)\n",
        "    feed_forward = FeedForwardBlock(d_model, d_ff, dropout_p)\n",
        "    decoder_block = DecoderBlock(decoder_self_attention, decoder_cross_attention, feed_forward, dropout_p)\n",
        "    DecoderBlocks.append(decoder_block)\n",
        "\n",
        "  # create encoder and decoder\n",
        "  encoder = Encoder(nn.ModuleList(EncoderBlocks))\n",
        "  decoder = Decoder(nn.ModuleList(DecoderBlocks))\n",
        "\n",
        "  # projection layer\n",
        "  projectionLayer = ProjectionLayer(d_model, tgt_vocab_size)\n",
        "\n",
        "  # Transformer\n",
        "  transformer = Transformer(encoder, decoder, src_embedding, tgt_embedding, src_pos_embed, tgt_pos_embed, projectionLayer)\n",
        "\n",
        "  # initialize paramers so training faster\n",
        "  for p in transformer.parameters():\n",
        "    if p.dim() > 1:\n",
        "      nn.init.xavier_uniform(p)\n",
        "\n",
        "  return transformer"
      ],
      "metadata": {
        "id": "UnuMFCWHZFuF"
      },
      "execution_count": null,
      "outputs": []
    },
    {
      "cell_type": "markdown",
      "source": [
        "# Build Language Translation from English to Italian using Transformer"
      ],
      "metadata": {
        "id": "wyZ9wTUXfXGo"
      }
    },
    {
      "cell_type": "code",
      "source": [
        "!pip3 install datasets --quiet\n",
        "!pip3 install torchmetrics"
      ],
      "metadata": {
        "colab": {
          "base_uri": "https://localhost:8080/"
        },
        "id": "9v41xe6Sg94a",
        "outputId": "d3fea5a9-5456-4cac-f40c-711ab53e03c5"
      },
      "execution_count": null,
      "outputs": [
        {
          "output_type": "stream",
          "name": "stdout",
          "text": [
            "Requirement already satisfied: torchmetrics in /usr/local/lib/python3.10/dist-packages (1.3.0.post0)\n",
            "Requirement already satisfied: numpy>1.20.0 in /usr/local/lib/python3.10/dist-packages (from torchmetrics) (1.23.5)\n",
            "Requirement already satisfied: packaging>17.1 in /usr/local/lib/python3.10/dist-packages (from torchmetrics) (23.2)\n",
            "Requirement already satisfied: torch>=1.10.0 in /usr/local/lib/python3.10/dist-packages (from torchmetrics) (2.1.0+cu121)\n",
            "Requirement already satisfied: lightning-utilities>=0.8.0 in /usr/local/lib/python3.10/dist-packages (from torchmetrics) (0.10.1)\n",
            "Requirement already satisfied: setuptools in /usr/local/lib/python3.10/dist-packages (from lightning-utilities>=0.8.0->torchmetrics) (67.7.2)\n",
            "Requirement already satisfied: typing-extensions in /usr/local/lib/python3.10/dist-packages (from lightning-utilities>=0.8.0->torchmetrics) (4.5.0)\n",
            "Requirement already satisfied: filelock in /usr/local/lib/python3.10/dist-packages (from torch>=1.10.0->torchmetrics) (3.13.1)\n",
            "Requirement already satisfied: sympy in /usr/local/lib/python3.10/dist-packages (from torch>=1.10.0->torchmetrics) (1.12)\n",
            "Requirement already satisfied: networkx in /usr/local/lib/python3.10/dist-packages (from torch>=1.10.0->torchmetrics) (3.2.1)\n",
            "Requirement already satisfied: jinja2 in /usr/local/lib/python3.10/dist-packages (from torch>=1.10.0->torchmetrics) (3.1.3)\n",
            "Requirement already satisfied: fsspec in /usr/local/lib/python3.10/dist-packages (from torch>=1.10.0->torchmetrics) (2023.6.0)\n",
            "Requirement already satisfied: triton==2.1.0 in /usr/local/lib/python3.10/dist-packages (from torch>=1.10.0->torchmetrics) (2.1.0)\n",
            "Requirement already satisfied: MarkupSafe>=2.0 in /usr/local/lib/python3.10/dist-packages (from jinja2->torch>=1.10.0->torchmetrics) (2.1.4)\n",
            "Requirement already satisfied: mpmath>=0.19 in /usr/local/lib/python3.10/dist-packages (from sympy->torch>=1.10.0->torchmetrics) (1.3.0)\n"
          ]
        }
      ]
    },
    {
      "cell_type": "code",
      "source": [
        "import os\n",
        "import sys\n",
        "from typing import Any\n",
        "from tqdm import tqdm\n",
        "import torch\n",
        "import torch.nn as nn\n",
        "from torch.utils.data import Dataset, DataLoader, random_split\n",
        "from datasets import load_dataset\n",
        "from tokenizers import Tokenizer\n",
        "from tokenizers.models import WordLevel\n",
        "from tokenizers.trainers import WordLevelTrainer\n",
        "from tokenizers.pre_tokenizers import Whitespace\n",
        "\n",
        "from pathlib import Path #create absolut path using relative path\n",
        "import warnings\n",
        "\n",
        "from torch.utils.tensorboard import SummaryWriter\n",
        "import torchmetrics"
      ],
      "metadata": {
        "id": "QbQUVp3ree1q"
      },
      "execution_count": null,
      "outputs": []
    },
    {
      "cell_type": "markdown",
      "source": [
        "### Tokenizer"
      ],
      "metadata": {
        "id": "5LoFhmkRiOBq"
      }
    },
    {
      "cell_type": "code",
      "source": [
        "def get_all_sentences(ds, lang):\n",
        "    for item in ds:\n",
        "        yield item['translation'][lang]\n",
        "\n",
        "def buildTokenizer(config, ds, lang):\n",
        "    tokenizer_path = Path(config['tokenizer_file'].format(lang))\n",
        "    if not Path.exists(tokenizer_path):\n",
        "        tokenizer = Tokenizer(WordLevel(unk_token=\"[UNK]\"))\n",
        "        tokenizer.pre_tokenizer = Whitespace()\n",
        "        trainer = WordLevelTrainer(special_tokens=[\"[UNK]\", \"[PAD]\", \"[SOS]\", \"[EOS]\"], min_frequency=2)\n",
        "        tokenizer.train_from_iterator(get_all_sentences(ds, lang), trainer=trainer)\n",
        "        tokenizer.save(str(tokenizer_path))\n",
        "    else:\n",
        "        tokenizer = Tokenizer.from_file(str(tokenizer_path))\n",
        "    return tokenizer"
      ],
      "metadata": {
        "id": "jcKbgPSteezY"
      },
      "execution_count": null,
      "outputs": []
    },
    {
      "cell_type": "markdown",
      "source": [
        "### Get dataset from HuggingFace"
      ],
      "metadata": {
        "id": "EBuV9KZgl2eg"
      }
    },
    {
      "cell_type": "code",
      "source": [
        "class BilingualDataset(nn.Module):\n",
        "  def __init__(self, dataset, tokenizer_src, tokenizer_tgt, src_lang, tgt_lang, seq_len):\n",
        "    super().__init__()\n",
        "    self.dataset = dataset\n",
        "    self.tokenizer_src = tokenizer_src\n",
        "    self.tokenizer_tgt = tokenizer_tgt\n",
        "    self.src_lang = src_lang\n",
        "    self.tgt_lang = tgt_lang\n",
        "    self.seq_len = seq_len\n",
        "\n",
        "    self.sos_token = torch.tensor([self.tokenizer_tgt.token_to_id('[SOS]')], dtype=torch.int64)\n",
        "    self.pad_token = torch.tensor([self.tokenizer_tgt.token_to_id('[PAD]')], dtype=torch.int64)\n",
        "    self.eos_token = torch.tensor([self.tokenizer_tgt.token_to_id('[EOS]')], dtype=torch.int64)\n",
        "\n",
        "  def __len__(self):\n",
        "    return len(self.dataset)\n",
        "\n",
        "  def __getitem__(self, index: Any):\n",
        "    src_target_text = self.dataset[index]\n",
        "    src_text = src_target_text['translation'][self.src_lang]\n",
        "    tgt_text = src_target_text['translation'][self.tgt_lang]\n",
        "\n",
        "    enc_input_tokens = self.tokenizer_src.encode(src_text).ids #convert each src word into id give as array of id's\n",
        "    dec_input_tokens = self.tokenizer_tgt.encode(tgt_text).ids\n",
        "\n",
        "    enc_num_padding_tokens = self.seq_len - len(enc_input_tokens) - 2 # 2 becasue we add [SOS] and [EOS]\n",
        "    dec_num_padding_tokens = self.seq_len - len(dec_input_tokens) -  1 # 1 because we only add [SOS] to the decoder side\n",
        "\n",
        "    if enc_num_padding_tokens < 0 or dec_num_padding_tokens < 0:\n",
        "      raise ValueError('Sentence is too long')\n",
        "\n",
        "    # input for encoder\n",
        "    encoder_input = torch.cat([\n",
        "            self.sos_token,\n",
        "            torch.tensor(enc_input_tokens, dtype=torch.int64),\n",
        "            self.eos_token,\n",
        "            torch.tensor([self.pad_token]*enc_num_padding_tokens, dtype=torch.int64)\n",
        "        ])\n",
        "\n",
        "    # input for decoder\n",
        "    decoder_input = torch.cat([\n",
        "        self.sos_token,\n",
        "        torch.tensor(dec_input_tokens, dtype=torch.int64),\n",
        "        torch.tensor([self.pad_token]*dec_num_padding_tokens, dtype=torch.int64),\n",
        "    ])\n",
        "\n",
        "    # label at decoder side\n",
        "    label = torch.cat([\n",
        "        torch.tensor(dec_input_tokens, dtype=torch.int64),\n",
        "        self.eos_token,\n",
        "        torch.tensor([self.pad_token]*dec_num_padding_tokens, dtype=torch.int64)\n",
        "    ])\n",
        "\n",
        "    assert encoder_input.size(0) == self.seq_len\n",
        "    assert decoder_input.size(0) == self.seq_len\n",
        "    assert label.size(0) == self.seq_len\n",
        "\n",
        "    return {\n",
        "        'encoder_input': encoder_input, # (seq_len)\n",
        "        'decoder_input': decoder_input, # (seq_len)\n",
        "        'encoder_mask': (encoder_input != self.pad_token).unsqueeze(0).unsqueeze(0).int(), #(1, 1, seq_len)\n",
        "        'decoder_mask': (decoder_input != self.pad_token).unsqueeze(0).int() & causal_mask(decoder_input.size(0)), # (1, seq_len) & (1, seq_len, seq_len)\n",
        "        'label': label, # (seq_len)\n",
        "        'src_text': src_text,\n",
        "        'tgt_text': tgt_text,\n",
        "    }\n",
        "\n",
        "\n",
        "def causal_mask(size):\n",
        "  # we expect value along the diagoan is high\n",
        "  # if we don't want some postions to interact, we can set thier value -inf\n",
        "  # before appling the softmax in this matrix and model will not learn those interaction\n",
        "  # we will use this in the decoder\n",
        "\n",
        "  # we create matrix in which every value below the diagonal is zero and all value of diagoanl is one\n",
        "  mask = torch.triu(torch.ones(1, size, size), diagonal=1).type(torch.int)\n",
        "\n",
        "  # but we want below the diagonal is 1 and above the diagonal is one\n",
        "  return mask == 0\n",
        "\n"
      ],
      "metadata": {
        "id": "uFNbBhIceewG"
      },
      "execution_count": null,
      "outputs": []
    },
    {
      "cell_type": "code",
      "source": [
        "def get_data(config):\n",
        "  ds_raw = load_dataset(config['datasource'], f\"{config['lang_src']}-{config['lang_tgt']}\", split='train')\n",
        "\n",
        "  # build tokenizers\n",
        "  tokenizer_src = buildTokenizer(config, ds_raw, config['lang_src'])\n",
        "  tokenizer_tgt = buildTokenizer(config, ds_raw, config['lang_tgt'])\n",
        "\n",
        "  #split dataset int train and validation set\n",
        "  train_size = int(0.9*len(ds_raw))\n",
        "  val_size = len(ds_raw) - train_size\n",
        "  train_raw, val_raw = random_split(ds_raw, [train_size, val_size])\n",
        "\n",
        "  train_ds = BilingualDataset(train_raw, tokenizer_src, tokenizer_tgt, config['lang_src'], config['lang_tgt'], config['seq_len'])\n",
        "  val_ds = BilingualDataset(val_raw, tokenizer_src, tokenizer_tgt, config['lang_src'], config['lang_tgt'], config['seq_len'])\n",
        "\n",
        "  max_len_src = 0\n",
        "  max_len_tgt = 0\n",
        "\n",
        "  for item in ds_raw:\n",
        "    src_ids = tokenizer_src.encode(item['translation'][config['lang_src']]).ids\n",
        "    tgt_ids = tokenizer_tgt.encode(item['translation'][config['lang_tgt']]).ids\n",
        "\n",
        "    max_len_src = max(max_len_src, len(src_ids))\n",
        "    max_len_tgt = max(max_len_tgt, len(tgt_ids))\n",
        "\n",
        "  print(f\"Max Length of source sentence: {max_len_src}\")\n",
        "  print(f\"Max Length of target sentence : {max_len_tgt}\")\n",
        "\n",
        "  train_dataloader = DataLoader(train_ds, batch_size=config['batch_size'], shuffle=True)\n",
        "  val_dataloader = DataLoader(val_ds, batch_size=1, shuffle=True)\n",
        "\n",
        "  return train_dataloader, val_dataloader, tokenizer_src, tokenizer_tgt"
      ],
      "metadata": {
        "id": "BtwutIR9eeuE"
      },
      "execution_count": null,
      "outputs": []
    },
    {
      "cell_type": "markdown",
      "source": [
        "### Get the model"
      ],
      "metadata": {
        "id": "fWHj_pSX2h1b"
      }
    },
    {
      "cell_type": "code",
      "source": [
        "def get_model(config, vocab_src_len, vocab_tgt_len):\n",
        "  model = buildTransformer(vocab_src_len, vocab_tgt_len, config['seq_len'], config['seq_len'], config['d_model'], config['attention_head'], config['hidden_layer_dim'], config['blocks'])\n",
        "  return model"
      ],
      "metadata": {
        "id": "YrEYJ_jdeest"
      },
      "execution_count": null,
      "outputs": []
    },
    {
      "cell_type": "markdown",
      "source": [
        "### Configrations"
      ],
      "metadata": {
        "id": "XRkIH7UY3c3j"
      }
    },
    {
      "cell_type": "code",
      "source": [
        "def get_config():\n",
        "  return {\n",
        "      \"beam_size\": 3,\n",
        "      \"batch_size\": 8,\n",
        "      \"num_epochs\": 1,\n",
        "      \"lr\": 10**-4,\n",
        "      \"seq_len\": 350,\n",
        "      \"d_model\": 512,\n",
        "      \"attention_head\": 2,\n",
        "      \"hidden_layer_dim\": 1024, #d_ff size\n",
        "      \"blocks\": 2, # number of encoder-decoder blocks in the transformer\n",
        "      \"lang_src\": 'en',\n",
        "      \"lang_tgt\": 'it',\n",
        "      \"datasource\": 'opus_books',\n",
        "      \"model_folder\": 'weights',\n",
        "      \"model_basename\": 'tmodel_',\n",
        "      \"preload\": None,\n",
        "      \"tokenizer_file\": \"tokenizer_{0}.json\",\n",
        "      \"experiment_name\": 'runs/tmodel'\n",
        "  }\n",
        "\n",
        "def get_weights_file_path(config, epoch: str):\n",
        "  model_folder = f\"{config['datasource']}_{config['model_folder']}\"\n",
        "  model_filename =  f\"{config['model_basename']}{epoch}.pt\"\n",
        "\n",
        "  return str(Path('.')/model_folder/model_filename)\n",
        "\n",
        "def latest_weights_file_path(config):\n",
        "  model_folder = f\"{config['datasource']}_{config['model_folder']}\"\n",
        "  model_name = f\"{config['model_basename']}*\"\n",
        "  weights_file_list = list(Path(model_folder).glob(model_name)) # fetch all the file name which are present inside the \"model_folder\"\n",
        "  if len(weights_file_list) == 0:  # weights are not exist\n",
        "    return None\n",
        "  else:\n",
        "    weights_file_list.sort()\n",
        "    return weights_file_list[-1]"
      ],
      "metadata": {
        "id": "UM4WfR4Deeq0"
      },
      "execution_count": null,
      "outputs": []
    },
    {
      "cell_type": "markdown",
      "source": [
        "### Train the model"
      ],
      "metadata": {
        "id": "9jUhNazR5mNN"
      }
    },
    {
      "cell_type": "code",
      "source": [
        "def train_model(config):\n",
        "  device = torch.device('cuda' if torch.cuda.is_available() else 'cpu')\n",
        "  print(f\"using device: {device}\")\n",
        "  if (device == 'cuda'):\n",
        "    print(f\"Device name: {torch.cuda.get_device_name(device.index)}\")\n",
        "    print(f\"Device memory: {torch.cuda.get_device_properties(device.index).total_memory/ 1024**3} GB\")\n",
        "  elif (device == 'mps'):\n",
        "    print(f\"Device name: <mps>\")\n",
        "  else:\n",
        "    pass\n",
        "\n",
        "  # create folder to store models weights\n",
        "  Path(f\"{config['datasource']}_{config['model_folder']}\").mkdir(parents=True, exist_ok=True)\n",
        "  train_dataloader, val_dataloader, tokenizer_src, tokenizer_tgt = get_data(config)\n",
        "  model = get_model(config, tokenizer_src.get_vocab_size(), tokenizer_tgt.get_vocab_size()).to(device)\n",
        "\n",
        "  # Tensorboard\n",
        "  writer = SummaryWriter(config['experiment_name'])\n",
        "\n",
        "  optimizer = torch.optim.Adam(model.parameters(), lr=config['lr'], eps=1e-9)\n",
        "\n",
        "  # if model crash in between training then again strat from that instance\n",
        "  initial_epoch = 0\n",
        "  global_step = 0\n",
        "  preload = config['preload']\n",
        "  model_filename = latest_weights_file_path(config) if preload == 'latest' else get_weights_file_path(config, preload) if preload  else None\n",
        "\n",
        "  if model_filename:\n",
        "    model_filename = get_weights_file_path(config, config['preload'])\n",
        "    print(f\"preloading model: {model_filename}\")\n",
        "    state = torch.load(model_filename)\n",
        "    initial_epoch = state['epoch'] + 1\n",
        "    optimizer.load_state_dict(state['optimizer_state_dict'])\n",
        "    global_step = state['global_step']\n",
        "  else:\n",
        "    print(\"No model to preload, starting from scratch\")\n",
        "\n",
        "\n",
        "  # smooth_lable: it means take 0.1 from highest probability and distribute to others so that model will less overfit\n",
        "  loss_fn = nn.CrossEntropyLoss(ignore_index=tokenizer_src.token_to_id('[PAD]'), label_smoothing=0.1).to(device)\n",
        "\n",
        "  # training loop\n",
        "  for epoch in range(initial_epoch, config['num_epochs']):\n",
        "    torch.cuda.empty_cache()\n",
        "    model.train()\n",
        "    batch_iterator = tqdm(train_dataloader, desc=f'Processing Epoch: {epoch:02d}')\n",
        "    for batch in batch_iterator:\n",
        "\n",
        "      encoder_input = batch['encoder_input'].to(device) # (batch, seq_len)\n",
        "      decoder_input = batch['decoder_input'].to(device) # (batch, seq_len)\n",
        "      encoder_mask = batch['encoder_mask'].to(device) # (batch, 1, 1, seq_len)\n",
        "      decoder_mask = batch['decoder_mask'].to(device) # (batch, 1, seq_len, seq_len)\n",
        "\n",
        "      # Run the tensor through the transformer\n",
        "      encoder_output = model.encode(encoder_input, encoder_mask) # (batch, seq_len, d_model)\n",
        "      decoder_output = model.decode(encoder_output, encoder_mask, decoder_input, decoder_mask) # (batch, seq_len, d_model)\n",
        "      projection = model.projection(decoder_output) # (batch, seq_len, tgt_vocab_size)\n",
        "\n",
        "      label = batch['label'].to(device) # (batch, seq_len)\n",
        "\n",
        "      # (batch, seq_len, tgt_vocab_size) --> (batch*seq_len, tgt_vocab_size)\n",
        "      loss = loss_fn(projection.view(-1, tokenizer_tgt.get_vocab_size()), label.view(-1))\n",
        "      batch_iterator.set_postfix({ \"loss\": f\"{loss.item():6.3f}\" })\n",
        "\n",
        "      # log the loss\n",
        "      writer.add_scalar(\"train loss\", loss.item(), global_step)\n",
        "      writer.flush()\n",
        "\n",
        "      # backpropogate the loss\n",
        "      loss.backward()\n",
        "\n",
        "      # update the weights\n",
        "      optimizer.step()\n",
        "      optimizer.zero_grad()\n",
        "\n",
        "      global_step += 1\n",
        "\n",
        "    run_validation(model, val_dataloader, tokenizer_src, tokenizer_tgt, config['seq_len'], device, lambda msg: batch_iterator.write(msg), global_step, writer)\n",
        "\n",
        "    # save the model at the end of the every epochs\n",
        "    model_file_path = get_weights_file_path(config, f'{epoch:02d}')\n",
        "\n",
        "    # if you want to resume the training is recommanded to store the optimizer state also\n",
        "    # because optimize also store weight for each weights\n",
        "    torch.save({\n",
        "        'epoch': epoch,\n",
        "        'model_state_dict': model.state_dict(),\n",
        "        'optimizer_state_dict': optimizer.state_dict(),\n",
        "        'global_step': global_step\n",
        "    }, model_file_path)\n",
        "\n"
      ],
      "metadata": {
        "id": "m69-1F6u31Bz"
      },
      "execution_count": null,
      "outputs": []
    },
    {
      "cell_type": "markdown",
      "source": [
        "### Greedy Search for next token"
      ],
      "metadata": {
        "id": "5gZrDrMn1r1f"
      }
    },
    {
      "cell_type": "code",
      "source": [
        "def greedy_decode(model, source, source_mask, tokenizer_src, tokenizer_tgt, max_len, device):\n",
        "    sos_idx = tokenizer_tgt.token_to_id('[SOS]')\n",
        "    eos_idx = tokenizer_tgt.token_to_id('[EOS]')\n",
        "\n",
        "    # Precompute the encoder output and reuse it for every step\n",
        "    encoder_output = model.encode(source, source_mask)\n",
        "    # Initialize the decoder input with the sos token\n",
        "    decoder_input = torch.empty(1, 1).fill_(sos_idx).type_as(source).to(device)\n",
        "    while True:\n",
        "        if decoder_input.size(1) == max_len:\n",
        "            break\n",
        "\n",
        "        # build mask for target\n",
        "        decoder_mask = causal_mask(decoder_input.size(1)).type_as(source_mask).to(device)\n",
        "\n",
        "        # calculate output\n",
        "        out = model.decode(encoder_output, source_mask, decoder_input, decoder_mask)\n",
        "\n",
        "        # get next token\n",
        "        prob = model.projection(out[:, -1])\n",
        "        _, next_word = torch.max(prob, dim=1)\n",
        "        decoder_input = torch.cat(\n",
        "            [decoder_input, torch.empty(1, 1).type_as(source).fill_(next_word.item()).to(device)], dim=1\n",
        "        )\n",
        "\n",
        "        if next_word == eos_idx:\n",
        "            break\n",
        "\n",
        "    return decoder_input.squeeze(0)"
      ],
      "metadata": {
        "id": "66cbfbRw30-J"
      },
      "execution_count": null,
      "outputs": []
    },
    {
      "cell_type": "markdown",
      "source": [
        "### Beam Search for next token"
      ],
      "metadata": {
        "id": "QEygFd6E1wuq"
      }
    },
    {
      "cell_type": "code",
      "source": [
        "\n",
        "def beam_search_decode(model, beam_size, source, source_mask, tokenizer_src, tokenizer_tgt, max_len, device):\n",
        "    sos_idx = tokenizer_tgt.token_to_id('[SOS]')\n",
        "    eos_idx = tokenizer_tgt.token_to_id('[EOS]')\n",
        "\n",
        "    # Precompute the encoder output and reuse it for every step\n",
        "    encoder_output = model.encode(source, source_mask)\n",
        "    # Initialize the decoder input with the sos token\n",
        "    decoder_initial_input = torch.empty(1, 1).fill_(sos_idx).type_as(source).to(device)\n",
        "\n",
        "    # Create a candidate list\n",
        "    candidates = [(decoder_initial_input, 1)]\n",
        "\n",
        "    while True:\n",
        "\n",
        "        # If a candidate has reached the maximum length, it means we have run the decoding for at least max_len iterations, so stop the search\n",
        "        if any([cand.size(1) == max_len for cand, _ in candidates]):\n",
        "            break\n",
        "\n",
        "        # Create a new list of candidates\n",
        "        new_candidates = []\n",
        "\n",
        "        for candidate, score in candidates:\n",
        "\n",
        "            # Do not expand candidates that have reached the eos token\n",
        "            if candidate[0][-1].item() == eos_idx:\n",
        "                continue\n",
        "\n",
        "            # Build the candidate's mask\n",
        "            candidate_mask = causal_mask(candidate.size(1)).type_as(source_mask).to(device)\n",
        "            # calculate output\n",
        "            out = model.decode(encoder_output, source_mask, candidate, candidate_mask)\n",
        "            # get next token probabilities\n",
        "            prob = model.project(out[:, -1])\n",
        "            # get the top k candidates\n",
        "            topk_prob, topk_idx = torch.topk(prob, beam_size, dim=1)\n",
        "            for i in range(beam_size):\n",
        "                # for each of the top k candidates, get the token and its probability\n",
        "                token = topk_idx[0][i].unsqueeze(0).unsqueeze(0)\n",
        "                token_prob = topk_prob[0][i].item()\n",
        "                # create a new candidate by appending the token to the current candidate\n",
        "                new_candidate = torch.cat([candidate, token], dim=1)\n",
        "                # We sum the log probabilities because the probabilities are in log space\n",
        "                new_candidates.append((new_candidate, score + token_prob))\n",
        "\n",
        "        # Sort the new candidates by their score\n",
        "        candidates = sorted(new_candidates, key=lambda x: x[1], reverse=True)\n",
        "        # Keep only the top k candidates\n",
        "        candidates = candidates[:beam_size]\n",
        "\n",
        "        # If all the candidates have reached the eos token, stop\n",
        "        if all([cand[0][-1].item() == eos_idx for cand, _ in candidates]):\n",
        "            break\n",
        "\n",
        "    # Return the best candidate\n",
        "    return candidates[0][0].squeeze()"
      ],
      "metadata": {
        "id": "dplckFj_1pGd"
      },
      "execution_count": null,
      "outputs": []
    },
    {
      "cell_type": "markdown",
      "source": [
        "### Validation"
      ],
      "metadata": {
        "id": "heFyQB3u2HzD"
      }
    },
    {
      "cell_type": "code",
      "source": [
        "def run_validation(model, validation_ds, tokenizer_src, tokenizer_tgt, max_len, device, print_msg, global_step, writer, num_examble=2):\n",
        "  model.eval()\n",
        "  count = 0\n",
        "\n",
        "  source_texts = []\n",
        "  expected = []\n",
        "  predicted_by_greedy = []\n",
        "  predicted_by_beam = []\n",
        "\n",
        "\n",
        "  with torch.no_grad():\n",
        "    for batch in validation_ds:\n",
        "      count += 1\n",
        "      encoder_input = batch['encoder_input'].to(device) # (batch, seq_len)\n",
        "      encoder_mask = batch['encoder_mask'].to(device) # (batch, 1, 1, seq_len)\n",
        "\n",
        "      assert encoder_input.size(0) == 1, \"Batch size must be 1 for validation\"\n",
        "\n",
        "      model_output_greedy = greedy_decode(model, encoder_input, encoder_mask, tokenizer_src, tokenizer_tgt, max_len, device)\n",
        "      model_output_beam = beam_search_decode(model, config['beam_size'], encoder_input, encoder_mask, tokenizer_src, tokenizer_tgt, max_len, device)\n",
        "\n",
        "\n",
        "      source_text = batch['src_text'][0]\n",
        "      target_text = batch['tgt_text'][0]\n",
        "      model_output_text_greedy  = tokenizer_tgt.decode(model_output_greedy.detach().cpu().numpy())\n",
        "      model_output_text_beam = tokenizer_tgt.decode(model_output_beam.detach().cpu().numpy())\n",
        "\n",
        "      source_texts.append(source_text)\n",
        "      expected.append(target_text)\n",
        "      predicted_by_greedy.append(model_output_text_greedy)\n",
        "      predicted_by_beam.append(model_output_text_beam)\n",
        "\n",
        "      # print to console\n",
        "      print_msg('-'*80)\n",
        "      print_msg(f\"{f'SOURCE: ':>12}{source_text}\")\n",
        "      print_msg(f\"{f'TARGET: ':>12}{target_text}\")\n",
        "      print_msg(f\"{f'PREDICTED GREEDY: ':>12}{model_output_text_greedy}\")\n",
        "      print_msg(f\"{f'PREDICTED BEAM: ':>12}{model_output_text_beam}\")\n",
        "\n",
        "      if count == num_examble:\n",
        "        print_msg('-'*80)\n",
        "        break\n",
        "\n",
        "  if writer:\n",
        "    # Evaluate the character error rate\n",
        "\n",
        "    # Compute the char error rate\n",
        "    metric = torchmetrics.CharErrorRate()\n",
        "    cer_greedy = metric(predicted_by_greedy, expected)\n",
        "    cer_beam = metric(predicted_by_beam, expected)\n",
        "    writer.add_scalar('validation cer with greedy search', cer_greedy, global_step)\n",
        "    writer.flush()\n",
        "\n",
        "    writer.add_scalar('validation cer with beam search', cer_beam, global_step)\n",
        "    writer.flush()\n",
        "\n",
        "    # Compute the word error rate\n",
        "    metric = torchmetrics.WordErrorRate()\n",
        "    wer_greedy = metric(predicted_by_greedy, expected)\n",
        "    wer_beam = metric(predicted_by_beam, expected)\n",
        "    writer.add_scalar('validation wer with greedy search', wer_greedy, global_step)\n",
        "    writer.flush()\n",
        "\n",
        "    writer.add_scalar('validation wer with beam search', wer_beam, global_step)\n",
        "    writer.flush()\n",
        "\n",
        "    # Compute BLEU metric\n",
        "    metric = torchmetrics.BLEUScore()\n",
        "    bleu_greedy = metric(predicted_by_greedy, expected)\n",
        "    bleu_beam = metric(predicted_by_beam, expected)\n",
        "\n",
        "    writer.add_scalar('validation BLEU score with greedy search', bleu_greedy, global_step)\n",
        "    writer.flush()\n",
        "\n",
        "    writer.add_scalar('validation BLEU score with beam search', bleu_beam, global_step)\n",
        "    writer.flush()\n",
        "\n",
        "  # Refence\n",
        "  # https://github.com/hkproj/pytorch-transformer\n",
        "  # https://www.youtube.com/watch?v=ISNdQcPhsts\n"
      ],
      "metadata": {
        "id": "nh7Nh9wM308E"
      },
      "execution_count": null,
      "outputs": []
    },
    {
      "cell_type": "code",
      "source": [
        "if __name__ == '__main__':\n",
        "  warnings.filterwarnings(\"ignore\")\n",
        "  config = get_config()\n",
        "  train_model(config)"
      ],
      "metadata": {
        "colab": {
          "base_uri": "https://localhost:8080/",
          "height": 436
        },
        "id": "i-Jl0-Nh306g",
        "outputId": "8a0ac411-8d66-4e2e-fdf1-4d89e2cc7f33"
      },
      "execution_count": null,
      "outputs": [
        {
          "output_type": "stream",
          "name": "stdout",
          "text": [
            "using device: cuda\n",
            "Max Length of source sentence: 309\n",
            "Max Length of target sentence : 1\n",
            "No model to preload, starting from scratch\n"
          ]
        },
        {
          "output_type": "stream",
          "name": "stderr",
          "text": [
            "Processing Epoch: 00:   3%|▎         | 113/3638 [00:09<05:10, 11.36it/s, loss=1.259]\n"
          ]
        },
        {
          "output_type": "error",
          "ename": "KeyboardInterrupt",
          "evalue": "",
          "traceback": [
            "\u001b[0;31m---------------------------------------------------------------------------\u001b[0m",
            "\u001b[0;31mKeyboardInterrupt\u001b[0m                         Traceback (most recent call last)",
            "\u001b[0;32m<ipython-input-106-3fd32c862d3d>\u001b[0m in \u001b[0;36m<cell line: 1>\u001b[0;34m()\u001b[0m\n\u001b[1;32m      2\u001b[0m   \u001b[0mwarnings\u001b[0m\u001b[0;34m.\u001b[0m\u001b[0mfilterwarnings\u001b[0m\u001b[0;34m(\u001b[0m\u001b[0;34m\"ignore\"\u001b[0m\u001b[0;34m)\u001b[0m\u001b[0;34m\u001b[0m\u001b[0;34m\u001b[0m\u001b[0m\n\u001b[1;32m      3\u001b[0m   \u001b[0mconfig\u001b[0m \u001b[0;34m=\u001b[0m \u001b[0mget_config\u001b[0m\u001b[0;34m(\u001b[0m\u001b[0;34m)\u001b[0m\u001b[0;34m\u001b[0m\u001b[0;34m\u001b[0m\u001b[0m\n\u001b[0;32m----> 4\u001b[0;31m   \u001b[0mtrain_model\u001b[0m\u001b[0;34m(\u001b[0m\u001b[0mconfig\u001b[0m\u001b[0;34m)\u001b[0m\u001b[0;34m\u001b[0m\u001b[0;34m\u001b[0m\u001b[0m\n\u001b[0m",
            "\u001b[0;32m<ipython-input-101-1e49cd0ae97a>\u001b[0m in \u001b[0;36mtrain_model\u001b[0;34m(config)\u001b[0m\n\u001b[1;32m     53\u001b[0m \u001b[0;34m\u001b[0m\u001b[0m\n\u001b[1;32m     54\u001b[0m       \u001b[0;31m# Run the tensor through the transformer\u001b[0m\u001b[0;34m\u001b[0m\u001b[0;34m\u001b[0m\u001b[0m\n\u001b[0;32m---> 55\u001b[0;31m       \u001b[0mencoder_output\u001b[0m \u001b[0;34m=\u001b[0m \u001b[0mmodel\u001b[0m\u001b[0;34m.\u001b[0m\u001b[0mencode\u001b[0m\u001b[0;34m(\u001b[0m\u001b[0mencoder_input\u001b[0m\u001b[0;34m,\u001b[0m \u001b[0mencoder_mask\u001b[0m\u001b[0;34m)\u001b[0m \u001b[0;31m# (batch, seq_len, d_model)\u001b[0m\u001b[0;34m\u001b[0m\u001b[0;34m\u001b[0m\u001b[0m\n\u001b[0m\u001b[1;32m     56\u001b[0m       \u001b[0mdecoder_output\u001b[0m \u001b[0;34m=\u001b[0m \u001b[0mmodel\u001b[0m\u001b[0;34m.\u001b[0m\u001b[0mdecode\u001b[0m\u001b[0;34m(\u001b[0m\u001b[0mencoder_output\u001b[0m\u001b[0;34m,\u001b[0m \u001b[0mencoder_mask\u001b[0m\u001b[0;34m,\u001b[0m \u001b[0mdecoder_input\u001b[0m\u001b[0;34m,\u001b[0m \u001b[0mdecoder_mask\u001b[0m\u001b[0;34m)\u001b[0m \u001b[0;31m# (batch, seq_len, d_model)\u001b[0m\u001b[0;34m\u001b[0m\u001b[0;34m\u001b[0m\u001b[0m\n\u001b[1;32m     57\u001b[0m       \u001b[0mprojection\u001b[0m \u001b[0;34m=\u001b[0m \u001b[0mmodel\u001b[0m\u001b[0;34m.\u001b[0m\u001b[0mprojection\u001b[0m\u001b[0;34m(\u001b[0m\u001b[0mdecoder_output\u001b[0m\u001b[0;34m)\u001b[0m \u001b[0;31m# (batch, seq_len, tgt_vocab_size)\u001b[0m\u001b[0;34m\u001b[0m\u001b[0;34m\u001b[0m\u001b[0m\n",
            "\u001b[0;32m<ipython-input-13-e6c3758709a7>\u001b[0m in \u001b[0;36mencode\u001b[0;34m(self, src, src_mask)\u001b[0m\n\u001b[1;32m     13\u001b[0m     \u001b[0msrc\u001b[0m \u001b[0;34m=\u001b[0m \u001b[0mself\u001b[0m\u001b[0;34m.\u001b[0m\u001b[0msrc_embed\u001b[0m\u001b[0;34m(\u001b[0m\u001b[0msrc\u001b[0m\u001b[0;34m)\u001b[0m\u001b[0;34m\u001b[0m\u001b[0;34m\u001b[0m\u001b[0m\n\u001b[1;32m     14\u001b[0m     \u001b[0msrc\u001b[0m \u001b[0;34m=\u001b[0m \u001b[0mself\u001b[0m\u001b[0;34m.\u001b[0m\u001b[0msrc_pos\u001b[0m\u001b[0;34m(\u001b[0m\u001b[0msrc\u001b[0m\u001b[0;34m)\u001b[0m\u001b[0;34m\u001b[0m\u001b[0;34m\u001b[0m\u001b[0m\n\u001b[0;32m---> 15\u001b[0;31m     \u001b[0;32mreturn\u001b[0m \u001b[0mself\u001b[0m\u001b[0;34m.\u001b[0m\u001b[0mencoder\u001b[0m\u001b[0;34m(\u001b[0m\u001b[0msrc\u001b[0m\u001b[0;34m,\u001b[0m \u001b[0msrc_mask\u001b[0m\u001b[0;34m)\u001b[0m\u001b[0;34m\u001b[0m\u001b[0;34m\u001b[0m\u001b[0m\n\u001b[0m\u001b[1;32m     16\u001b[0m \u001b[0;34m\u001b[0m\u001b[0m\n\u001b[1;32m     17\u001b[0m   \u001b[0;32mdef\u001b[0m \u001b[0mdecode\u001b[0m\u001b[0;34m(\u001b[0m\u001b[0mself\u001b[0m\u001b[0;34m,\u001b[0m \u001b[0mencoder_output\u001b[0m\u001b[0;34m,\u001b[0m \u001b[0msrc_mask\u001b[0m\u001b[0;34m,\u001b[0m \u001b[0mtgt\u001b[0m\u001b[0;34m,\u001b[0m \u001b[0mtgt_mask\u001b[0m\u001b[0;34m)\u001b[0m\u001b[0;34m:\u001b[0m\u001b[0;34m\u001b[0m\u001b[0;34m\u001b[0m\u001b[0m\n",
            "\u001b[0;32m/usr/local/lib/python3.10/dist-packages/torch/nn/modules/module.py\u001b[0m in \u001b[0;36m_wrapped_call_impl\u001b[0;34m(self, *args, **kwargs)\u001b[0m\n\u001b[1;32m   1516\u001b[0m             \u001b[0;32mreturn\u001b[0m \u001b[0mself\u001b[0m\u001b[0;34m.\u001b[0m\u001b[0m_compiled_call_impl\u001b[0m\u001b[0;34m(\u001b[0m\u001b[0;34m*\u001b[0m\u001b[0margs\u001b[0m\u001b[0;34m,\u001b[0m \u001b[0;34m**\u001b[0m\u001b[0mkwargs\u001b[0m\u001b[0;34m)\u001b[0m  \u001b[0;31m# type: ignore[misc]\u001b[0m\u001b[0;34m\u001b[0m\u001b[0;34m\u001b[0m\u001b[0m\n\u001b[1;32m   1517\u001b[0m         \u001b[0;32melse\u001b[0m\u001b[0;34m:\u001b[0m\u001b[0;34m\u001b[0m\u001b[0;34m\u001b[0m\u001b[0m\n\u001b[0;32m-> 1518\u001b[0;31m             \u001b[0;32mreturn\u001b[0m \u001b[0mself\u001b[0m\u001b[0;34m.\u001b[0m\u001b[0m_call_impl\u001b[0m\u001b[0;34m(\u001b[0m\u001b[0;34m*\u001b[0m\u001b[0margs\u001b[0m\u001b[0;34m,\u001b[0m \u001b[0;34m**\u001b[0m\u001b[0mkwargs\u001b[0m\u001b[0;34m)\u001b[0m\u001b[0;34m\u001b[0m\u001b[0;34m\u001b[0m\u001b[0m\n\u001b[0m\u001b[1;32m   1519\u001b[0m \u001b[0;34m\u001b[0m\u001b[0m\n\u001b[1;32m   1520\u001b[0m     \u001b[0;32mdef\u001b[0m \u001b[0m_call_impl\u001b[0m\u001b[0;34m(\u001b[0m\u001b[0mself\u001b[0m\u001b[0;34m,\u001b[0m \u001b[0;34m*\u001b[0m\u001b[0margs\u001b[0m\u001b[0;34m,\u001b[0m \u001b[0;34m**\u001b[0m\u001b[0mkwargs\u001b[0m\u001b[0;34m)\u001b[0m\u001b[0;34m:\u001b[0m\u001b[0;34m\u001b[0m\u001b[0;34m\u001b[0m\u001b[0m\n",
            "\u001b[0;32m/usr/local/lib/python3.10/dist-packages/torch/nn/modules/module.py\u001b[0m in \u001b[0;36m_call_impl\u001b[0;34m(self, *args, **kwargs)\u001b[0m\n\u001b[1;32m   1525\u001b[0m                 \u001b[0;32mor\u001b[0m \u001b[0m_global_backward_pre_hooks\u001b[0m \u001b[0;32mor\u001b[0m \u001b[0m_global_backward_hooks\u001b[0m\u001b[0;34m\u001b[0m\u001b[0;34m\u001b[0m\u001b[0m\n\u001b[1;32m   1526\u001b[0m                 or _global_forward_hooks or _global_forward_pre_hooks):\n\u001b[0;32m-> 1527\u001b[0;31m             \u001b[0;32mreturn\u001b[0m \u001b[0mforward_call\u001b[0m\u001b[0;34m(\u001b[0m\u001b[0;34m*\u001b[0m\u001b[0margs\u001b[0m\u001b[0;34m,\u001b[0m \u001b[0;34m**\u001b[0m\u001b[0mkwargs\u001b[0m\u001b[0;34m)\u001b[0m\u001b[0;34m\u001b[0m\u001b[0;34m\u001b[0m\u001b[0m\n\u001b[0m\u001b[1;32m   1528\u001b[0m \u001b[0;34m\u001b[0m\u001b[0m\n\u001b[1;32m   1529\u001b[0m         \u001b[0;32mtry\u001b[0m\u001b[0;34m:\u001b[0m\u001b[0;34m\u001b[0m\u001b[0;34m\u001b[0m\u001b[0m\n",
            "\u001b[0;32m<ipython-input-9-76c3ffe82f21>\u001b[0m in \u001b[0;36mforward\u001b[0;34m(self, x, mask)\u001b[0m\n\u001b[1;32m      8\u001b[0m     \u001b[0;32mfor\u001b[0m \u001b[0mlayer\u001b[0m \u001b[0;32min\u001b[0m \u001b[0mself\u001b[0m\u001b[0;34m.\u001b[0m\u001b[0mlayers\u001b[0m\u001b[0;34m:\u001b[0m\u001b[0;34m\u001b[0m\u001b[0;34m\u001b[0m\u001b[0m\n\u001b[1;32m      9\u001b[0m       \u001b[0mx\u001b[0m \u001b[0;34m=\u001b[0m \u001b[0mlayer\u001b[0m\u001b[0;34m(\u001b[0m\u001b[0mx\u001b[0m\u001b[0;34m,\u001b[0m \u001b[0mmask\u001b[0m\u001b[0;34m)\u001b[0m\u001b[0;34m\u001b[0m\u001b[0;34m\u001b[0m\u001b[0m\n\u001b[0;32m---> 10\u001b[0;31m     \u001b[0;32mreturn\u001b[0m \u001b[0mself\u001b[0m\u001b[0;34m.\u001b[0m\u001b[0mnorm\u001b[0m\u001b[0;34m(\u001b[0m\u001b[0mx\u001b[0m\u001b[0;34m)\u001b[0m\u001b[0;34m\u001b[0m\u001b[0;34m\u001b[0m\u001b[0m\n\u001b[0m",
            "\u001b[0;32m/usr/local/lib/python3.10/dist-packages/torch/nn/modules/module.py\u001b[0m in \u001b[0;36m_wrapped_call_impl\u001b[0;34m(self, *args, **kwargs)\u001b[0m\n\u001b[1;32m   1516\u001b[0m             \u001b[0;32mreturn\u001b[0m \u001b[0mself\u001b[0m\u001b[0;34m.\u001b[0m\u001b[0m_compiled_call_impl\u001b[0m\u001b[0;34m(\u001b[0m\u001b[0;34m*\u001b[0m\u001b[0margs\u001b[0m\u001b[0;34m,\u001b[0m \u001b[0;34m**\u001b[0m\u001b[0mkwargs\u001b[0m\u001b[0;34m)\u001b[0m  \u001b[0;31m# type: ignore[misc]\u001b[0m\u001b[0;34m\u001b[0m\u001b[0;34m\u001b[0m\u001b[0m\n\u001b[1;32m   1517\u001b[0m         \u001b[0;32melse\u001b[0m\u001b[0;34m:\u001b[0m\u001b[0;34m\u001b[0m\u001b[0;34m\u001b[0m\u001b[0m\n\u001b[0;32m-> 1518\u001b[0;31m             \u001b[0;32mreturn\u001b[0m \u001b[0mself\u001b[0m\u001b[0;34m.\u001b[0m\u001b[0m_call_impl\u001b[0m\u001b[0;34m(\u001b[0m\u001b[0;34m*\u001b[0m\u001b[0margs\u001b[0m\u001b[0;34m,\u001b[0m \u001b[0;34m**\u001b[0m\u001b[0mkwargs\u001b[0m\u001b[0;34m)\u001b[0m\u001b[0;34m\u001b[0m\u001b[0;34m\u001b[0m\u001b[0m\n\u001b[0m\u001b[1;32m   1519\u001b[0m \u001b[0;34m\u001b[0m\u001b[0m\n\u001b[1;32m   1520\u001b[0m     \u001b[0;32mdef\u001b[0m \u001b[0m_call_impl\u001b[0m\u001b[0;34m(\u001b[0m\u001b[0mself\u001b[0m\u001b[0;34m,\u001b[0m \u001b[0;34m*\u001b[0m\u001b[0margs\u001b[0m\u001b[0;34m,\u001b[0m \u001b[0;34m**\u001b[0m\u001b[0mkwargs\u001b[0m\u001b[0;34m)\u001b[0m\u001b[0;34m:\u001b[0m\u001b[0;34m\u001b[0m\u001b[0;34m\u001b[0m\u001b[0m\n",
            "\u001b[0;32m/usr/local/lib/python3.10/dist-packages/torch/nn/modules/module.py\u001b[0m in \u001b[0;36m_call_impl\u001b[0;34m(self, *args, **kwargs)\u001b[0m\n\u001b[1;32m   1525\u001b[0m                 \u001b[0;32mor\u001b[0m \u001b[0m_global_backward_pre_hooks\u001b[0m \u001b[0;32mor\u001b[0m \u001b[0m_global_backward_hooks\u001b[0m\u001b[0;34m\u001b[0m\u001b[0;34m\u001b[0m\u001b[0m\n\u001b[1;32m   1526\u001b[0m                 or _global_forward_hooks or _global_forward_pre_hooks):\n\u001b[0;32m-> 1527\u001b[0;31m             \u001b[0;32mreturn\u001b[0m \u001b[0mforward_call\u001b[0m\u001b[0;34m(\u001b[0m\u001b[0;34m*\u001b[0m\u001b[0margs\u001b[0m\u001b[0;34m,\u001b[0m \u001b[0;34m**\u001b[0m\u001b[0mkwargs\u001b[0m\u001b[0;34m)\u001b[0m\u001b[0;34m\u001b[0m\u001b[0;34m\u001b[0m\u001b[0m\n\u001b[0m\u001b[1;32m   1528\u001b[0m \u001b[0;34m\u001b[0m\u001b[0m\n\u001b[1;32m   1529\u001b[0m         \u001b[0;32mtry\u001b[0m\u001b[0;34m:\u001b[0m\u001b[0;34m\u001b[0m\u001b[0;34m\u001b[0m\u001b[0m\n",
            "\u001b[0;32m<ipython-input-4-9f43f7d98a92>\u001b[0m in \u001b[0;36mforward\u001b[0;34m(self, x)\u001b[0m\n\u001b[1;32m     13\u001b[0m   \u001b[0;32mdef\u001b[0m \u001b[0mforward\u001b[0m\u001b[0;34m(\u001b[0m\u001b[0mself\u001b[0m\u001b[0;34m,\u001b[0m \u001b[0mx\u001b[0m\u001b[0;34m)\u001b[0m\u001b[0;34m:\u001b[0m\u001b[0;34m\u001b[0m\u001b[0;34m\u001b[0m\u001b[0m\n\u001b[1;32m     14\u001b[0m     \u001b[0mmean\u001b[0m \u001b[0;34m=\u001b[0m \u001b[0mx\u001b[0m\u001b[0;34m.\u001b[0m\u001b[0mmean\u001b[0m\u001b[0;34m(\u001b[0m\u001b[0mdim\u001b[0m\u001b[0;34m=\u001b[0m\u001b[0;34m-\u001b[0m\u001b[0;36m1\u001b[0m\u001b[0;34m,\u001b[0m \u001b[0mkeepdim\u001b[0m\u001b[0;34m=\u001b[0m\u001b[0;32mTrue\u001b[0m\u001b[0;34m)\u001b[0m \u001b[0;31m#usually mean() remove the dim, to keep the dim we used the keepdim=True\u001b[0m\u001b[0;34m\u001b[0m\u001b[0;34m\u001b[0m\u001b[0m\n\u001b[0;32m---> 15\u001b[0;31m     \u001b[0mstd\u001b[0m \u001b[0;34m=\u001b[0m \u001b[0mx\u001b[0m\u001b[0;34m.\u001b[0m\u001b[0mstd\u001b[0m\u001b[0;34m(\u001b[0m\u001b[0mdim\u001b[0m\u001b[0;34m=\u001b[0m\u001b[0;34m-\u001b[0m\u001b[0;36m1\u001b[0m\u001b[0;34m,\u001b[0m \u001b[0mkeepdim\u001b[0m\u001b[0;34m=\u001b[0m\u001b[0;32mTrue\u001b[0m\u001b[0;34m)\u001b[0m\u001b[0;34m\u001b[0m\u001b[0;34m\u001b[0m\u001b[0m\n\u001b[0m\u001b[1;32m     16\u001b[0m     \u001b[0;32mreturn\u001b[0m \u001b[0mself\u001b[0m\u001b[0;34m.\u001b[0m\u001b[0mgamma\u001b[0m\u001b[0;34m*\u001b[0m\u001b[0;34m(\u001b[0m\u001b[0mx\u001b[0m \u001b[0;34m-\u001b[0m \u001b[0mmean\u001b[0m\u001b[0;34m)\u001b[0m\u001b[0;34m/\u001b[0m\u001b[0;34m(\u001b[0m\u001b[0mstd\u001b[0m \u001b[0;34m+\u001b[0m \u001b[0mself\u001b[0m\u001b[0;34m.\u001b[0m\u001b[0meps\u001b[0m\u001b[0;34m)\u001b[0m \u001b[0;34m+\u001b[0m \u001b[0mself\u001b[0m\u001b[0;34m.\u001b[0m\u001b[0mbeta\u001b[0m\u001b[0;34m\u001b[0m\u001b[0;34m\u001b[0m\u001b[0m\n\u001b[1;32m     17\u001b[0m \u001b[0;34m\u001b[0m\u001b[0m\n",
            "\u001b[0;31mKeyboardInterrupt\u001b[0m: "
          ]
        }
      ]
    },
    {
      "cell_type": "code",
      "source": [],
      "metadata": {
        "id": "diQlIyH44BwO"
      },
      "execution_count": null,
      "outputs": []
    },
    {
      "cell_type": "code",
      "source": [],
      "metadata": {
        "id": "ehXyxBet4Bul"
      },
      "execution_count": null,
      "outputs": []
    },
    {
      "cell_type": "code",
      "source": [],
      "metadata": {
        "id": "XYuwqFeS4BpH"
      },
      "execution_count": null,
      "outputs": []
    },
    {
      "cell_type": "code",
      "source": [],
      "metadata": {
        "id": "3zoz6d514Bjv"
      },
      "execution_count": null,
      "outputs": []
    },
    {
      "cell_type": "code",
      "source": [],
      "metadata": {
        "id": "mv7SqN_F4BhW"
      },
      "execution_count": null,
      "outputs": []
    },
    {
      "cell_type": "code",
      "source": [],
      "metadata": {
        "id": "vW7JzWqx4DuM"
      },
      "execution_count": null,
      "outputs": []
    },
    {
      "cell_type": "code",
      "source": [],
      "metadata": {
        "id": "22mFdGe24G3P"
      },
      "execution_count": null,
      "outputs": []
    },
    {
      "cell_type": "code",
      "source": [],
      "metadata": {
        "id": "YPxApSv_4LOP"
      },
      "execution_count": null,
      "outputs": []
    },
    {
      "cell_type": "code",
      "source": [],
      "metadata": {
        "id": "zzuMgnjn4Oic"
      },
      "execution_count": null,
      "outputs": []
    },
    {
      "cell_type": "code",
      "source": [],
      "metadata": {
        "id": "rWRcLZO54QZE"
      },
      "execution_count": null,
      "outputs": []
    },
    {
      "cell_type": "code",
      "source": [],
      "metadata": {
        "id": "zdZOm9kw4evH"
      },
      "execution_count": null,
      "outputs": []
    },
    {
      "cell_type": "code",
      "source": [],
      "metadata": {
        "id": "kFSlTpkD4eo4"
      },
      "execution_count": null,
      "outputs": []
    }
  ]
}