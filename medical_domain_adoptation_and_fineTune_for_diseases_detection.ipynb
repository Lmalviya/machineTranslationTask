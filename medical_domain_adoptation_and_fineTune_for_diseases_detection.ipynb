{
  "nbformat": 4,
  "nbformat_minor": 0,
  "metadata": {
    "colab": {
      "provenance": [],
      "authorship_tag": "ABX9TyM6yUjXsMCN0s3fS+iD8mNp",
      "include_colab_link": true
    },
    "kernelspec": {
      "name": "python3",
      "display_name": "Python 3"
    },
    "language_info": {
      "name": "python"
    },
    "widgets": {
      "application/vnd.jupyter.widget-state+json": {
        "6f80bed9f0f64b2db18565b6cca75d29": {
          "model_module": "@jupyter-widgets/controls",
          "model_name": "HBoxModel",
          "model_module_version": "1.5.0",
          "state": {
            "_dom_classes": [],
            "_model_module": "@jupyter-widgets/controls",
            "_model_module_version": "1.5.0",
            "_model_name": "HBoxModel",
            "_view_count": null,
            "_view_module": "@jupyter-widgets/controls",
            "_view_module_version": "1.5.0",
            "_view_name": "HBoxView",
            "box_style": "",
            "children": [
              "IPY_MODEL_b87518507a2c4f01839dfffe3d42a1f8",
              "IPY_MODEL_f9ba6b95af684bb099f129da87c3608f",
              "IPY_MODEL_90e1e07d6b274d4aaf7681c7300a4170"
            ],
            "layout": "IPY_MODEL_ef2ff9af6c3b4cc5b91971a7178555d5"
          }
        },
        "b87518507a2c4f01839dfffe3d42a1f8": {
          "model_module": "@jupyter-widgets/controls",
          "model_name": "HTMLModel",
          "model_module_version": "1.5.0",
          "state": {
            "_dom_classes": [],
            "_model_module": "@jupyter-widgets/controls",
            "_model_module_version": "1.5.0",
            "_model_name": "HTMLModel",
            "_view_count": null,
            "_view_module": "@jupyter-widgets/controls",
            "_view_module_version": "1.5.0",
            "_view_name": "HTMLView",
            "description": "",
            "description_tooltip": null,
            "layout": "IPY_MODEL_1a69b5838718418a9a64c7c18db23a21",
            "placeholder": "​",
            "style": "IPY_MODEL_01108a608023464b9cfa233dfc8fd51c",
            "value": "config.json: 100%"
          }
        },
        "f9ba6b95af684bb099f129da87c3608f": {
          "model_module": "@jupyter-widgets/controls",
          "model_name": "FloatProgressModel",
          "model_module_version": "1.5.0",
          "state": {
            "_dom_classes": [],
            "_model_module": "@jupyter-widgets/controls",
            "_model_module_version": "1.5.0",
            "_model_name": "FloatProgressModel",
            "_view_count": null,
            "_view_module": "@jupyter-widgets/controls",
            "_view_module_version": "1.5.0",
            "_view_name": "ProgressView",
            "bar_style": "success",
            "description": "",
            "description_tooltip": null,
            "layout": "IPY_MODEL_d0cfd52432744a0eb916d6b4aa9a5050",
            "max": 481,
            "min": 0,
            "orientation": "horizontal",
            "style": "IPY_MODEL_10585e2ba8d0494a8bad2c3c8243271c",
            "value": 481
          }
        },
        "90e1e07d6b274d4aaf7681c7300a4170": {
          "model_module": "@jupyter-widgets/controls",
          "model_name": "HTMLModel",
          "model_module_version": "1.5.0",
          "state": {
            "_dom_classes": [],
            "_model_module": "@jupyter-widgets/controls",
            "_model_module_version": "1.5.0",
            "_model_name": "HTMLModel",
            "_view_count": null,
            "_view_module": "@jupyter-widgets/controls",
            "_view_module_version": "1.5.0",
            "_view_name": "HTMLView",
            "description": "",
            "description_tooltip": null,
            "layout": "IPY_MODEL_cc85572d14594b52903cd1ea09d28d5f",
            "placeholder": "​",
            "style": "IPY_MODEL_3d12ccdebeed42cc8477cf444a6c72ce",
            "value": " 481/481 [00:00&lt;00:00, 27.7kB/s]"
          }
        },
        "ef2ff9af6c3b4cc5b91971a7178555d5": {
          "model_module": "@jupyter-widgets/base",
          "model_name": "LayoutModel",
          "model_module_version": "1.2.0",
          "state": {
            "_model_module": "@jupyter-widgets/base",
            "_model_module_version": "1.2.0",
            "_model_name": "LayoutModel",
            "_view_count": null,
            "_view_module": "@jupyter-widgets/base",
            "_view_module_version": "1.2.0",
            "_view_name": "LayoutView",
            "align_content": null,
            "align_items": null,
            "align_self": null,
            "border": null,
            "bottom": null,
            "display": null,
            "flex": null,
            "flex_flow": null,
            "grid_area": null,
            "grid_auto_columns": null,
            "grid_auto_flow": null,
            "grid_auto_rows": null,
            "grid_column": null,
            "grid_gap": null,
            "grid_row": null,
            "grid_template_areas": null,
            "grid_template_columns": null,
            "grid_template_rows": null,
            "height": null,
            "justify_content": null,
            "justify_items": null,
            "left": null,
            "margin": null,
            "max_height": null,
            "max_width": null,
            "min_height": null,
            "min_width": null,
            "object_fit": null,
            "object_position": null,
            "order": null,
            "overflow": null,
            "overflow_x": null,
            "overflow_y": null,
            "padding": null,
            "right": null,
            "top": null,
            "visibility": null,
            "width": null
          }
        },
        "1a69b5838718418a9a64c7c18db23a21": {
          "model_module": "@jupyter-widgets/base",
          "model_name": "LayoutModel",
          "model_module_version": "1.2.0",
          "state": {
            "_model_module": "@jupyter-widgets/base",
            "_model_module_version": "1.2.0",
            "_model_name": "LayoutModel",
            "_view_count": null,
            "_view_module": "@jupyter-widgets/base",
            "_view_module_version": "1.2.0",
            "_view_name": "LayoutView",
            "align_content": null,
            "align_items": null,
            "align_self": null,
            "border": null,
            "bottom": null,
            "display": null,
            "flex": null,
            "flex_flow": null,
            "grid_area": null,
            "grid_auto_columns": null,
            "grid_auto_flow": null,
            "grid_auto_rows": null,
            "grid_column": null,
            "grid_gap": null,
            "grid_row": null,
            "grid_template_areas": null,
            "grid_template_columns": null,
            "grid_template_rows": null,
            "height": null,
            "justify_content": null,
            "justify_items": null,
            "left": null,
            "margin": null,
            "max_height": null,
            "max_width": null,
            "min_height": null,
            "min_width": null,
            "object_fit": null,
            "object_position": null,
            "order": null,
            "overflow": null,
            "overflow_x": null,
            "overflow_y": null,
            "padding": null,
            "right": null,
            "top": null,
            "visibility": null,
            "width": null
          }
        },
        "01108a608023464b9cfa233dfc8fd51c": {
          "model_module": "@jupyter-widgets/controls",
          "model_name": "DescriptionStyleModel",
          "model_module_version": "1.5.0",
          "state": {
            "_model_module": "@jupyter-widgets/controls",
            "_model_module_version": "1.5.0",
            "_model_name": "DescriptionStyleModel",
            "_view_count": null,
            "_view_module": "@jupyter-widgets/base",
            "_view_module_version": "1.2.0",
            "_view_name": "StyleView",
            "description_width": ""
          }
        },
        "d0cfd52432744a0eb916d6b4aa9a5050": {
          "model_module": "@jupyter-widgets/base",
          "model_name": "LayoutModel",
          "model_module_version": "1.2.0",
          "state": {
            "_model_module": "@jupyter-widgets/base",
            "_model_module_version": "1.2.0",
            "_model_name": "LayoutModel",
            "_view_count": null,
            "_view_module": "@jupyter-widgets/base",
            "_view_module_version": "1.2.0",
            "_view_name": "LayoutView",
            "align_content": null,
            "align_items": null,
            "align_self": null,
            "border": null,
            "bottom": null,
            "display": null,
            "flex": null,
            "flex_flow": null,
            "grid_area": null,
            "grid_auto_columns": null,
            "grid_auto_flow": null,
            "grid_auto_rows": null,
            "grid_column": null,
            "grid_gap": null,
            "grid_row": null,
            "grid_template_areas": null,
            "grid_template_columns": null,
            "grid_template_rows": null,
            "height": null,
            "justify_content": null,
            "justify_items": null,
            "left": null,
            "margin": null,
            "max_height": null,
            "max_width": null,
            "min_height": null,
            "min_width": null,
            "object_fit": null,
            "object_position": null,
            "order": null,
            "overflow": null,
            "overflow_x": null,
            "overflow_y": null,
            "padding": null,
            "right": null,
            "top": null,
            "visibility": null,
            "width": null
          }
        },
        "10585e2ba8d0494a8bad2c3c8243271c": {
          "model_module": "@jupyter-widgets/controls",
          "model_name": "ProgressStyleModel",
          "model_module_version": "1.5.0",
          "state": {
            "_model_module": "@jupyter-widgets/controls",
            "_model_module_version": "1.5.0",
            "_model_name": "ProgressStyleModel",
            "_view_count": null,
            "_view_module": "@jupyter-widgets/base",
            "_view_module_version": "1.2.0",
            "_view_name": "StyleView",
            "bar_color": null,
            "description_width": ""
          }
        },
        "cc85572d14594b52903cd1ea09d28d5f": {
          "model_module": "@jupyter-widgets/base",
          "model_name": "LayoutModel",
          "model_module_version": "1.2.0",
          "state": {
            "_model_module": "@jupyter-widgets/base",
            "_model_module_version": "1.2.0",
            "_model_name": "LayoutModel",
            "_view_count": null,
            "_view_module": "@jupyter-widgets/base",
            "_view_module_version": "1.2.0",
            "_view_name": "LayoutView",
            "align_content": null,
            "align_items": null,
            "align_self": null,
            "border": null,
            "bottom": null,
            "display": null,
            "flex": null,
            "flex_flow": null,
            "grid_area": null,
            "grid_auto_columns": null,
            "grid_auto_flow": null,
            "grid_auto_rows": null,
            "grid_column": null,
            "grid_gap": null,
            "grid_row": null,
            "grid_template_areas": null,
            "grid_template_columns": null,
            "grid_template_rows": null,
            "height": null,
            "justify_content": null,
            "justify_items": null,
            "left": null,
            "margin": null,
            "max_height": null,
            "max_width": null,
            "min_height": null,
            "min_width": null,
            "object_fit": null,
            "object_position": null,
            "order": null,
            "overflow": null,
            "overflow_x": null,
            "overflow_y": null,
            "padding": null,
            "right": null,
            "top": null,
            "visibility": null,
            "width": null
          }
        },
        "3d12ccdebeed42cc8477cf444a6c72ce": {
          "model_module": "@jupyter-widgets/controls",
          "model_name": "DescriptionStyleModel",
          "model_module_version": "1.5.0",
          "state": {
            "_model_module": "@jupyter-widgets/controls",
            "_model_module_version": "1.5.0",
            "_model_name": "DescriptionStyleModel",
            "_view_count": null,
            "_view_module": "@jupyter-widgets/base",
            "_view_module_version": "1.2.0",
            "_view_name": "StyleView",
            "description_width": ""
          }
        }
      }
    }
  },
  "cells": [
    {
      "cell_type": "markdown",
      "metadata": {
        "id": "view-in-github",
        "colab_type": "text"
      },
      "source": [
        "<a href=\"https://colab.research.google.com/github/Lmalviya/machineTranslationTask/blob/main/medical_domain_adoptation_and_fineTune_for_diseases_detection.ipynb\" target=\"_parent\"><img src=\"https://colab.research.google.com/assets/colab-badge.svg\" alt=\"Open In Colab\"/></a>"
      ]
    },
    {
      "cell_type": "markdown",
      "source": [
        "# Scope of this model\n",
        "1. Medical domain adoptation\n",
        "2. fine tune diseases dection"
      ],
      "metadata": {
        "id": "b0cfMgl4hcyc"
      }
    },
    {
      "cell_type": "code",
      "execution_count": null,
      "metadata": {
        "id": "Nfpkc70shb9x"
      },
      "outputs": [],
      "source": []
    },
    {
      "cell_type": "code",
      "source": [
        "from google.colab import drive\n",
        "drive.mount('/content/drive')"
      ],
      "metadata": {
        "id": "pwul6wQMiI5A",
        "colab": {
          "base_uri": "https://localhost:8080/"
        },
        "outputId": "7ce13f42-cd07-4a82-fbb5-c03dfb6f5216"
      },
      "execution_count": 5,
      "outputs": [
        {
          "output_type": "stream",
          "name": "stdout",
          "text": [
            "Mounted at /content/drive\n"
          ]
        }
      ]
    },
    {
      "cell_type": "code",
      "source": [
        "!pip -q install langchain\n",
        "!pip -q install pypdf"
      ],
      "metadata": {
        "colab": {
          "base_uri": "https://localhost:8080/"
        },
        "id": "fh9CgyqBnIHL",
        "outputId": "876ef8d4-2a5b-4d6b-e396-712a9f37a447"
      },
      "execution_count": 6,
      "outputs": [
        {
          "output_type": "stream",
          "name": "stdout",
          "text": [
            "\u001b[2K     \u001b[90m━━━━━━━━━━━━━━━━━━━━━━━━━━━━━━━━━━━━━━━━\u001b[0m \u001b[32m807.5/807.5 kB\u001b[0m \u001b[31m7.6 MB/s\u001b[0m eta \u001b[36m0:00:00\u001b[0m\n",
            "\u001b[2K     \u001b[90m━━━━━━━━━━━━━━━━━━━━━━━━━━━━━━━━━━━━━━━━\u001b[0m \u001b[32m1.8/1.8 MB\u001b[0m \u001b[31m13.6 MB/s\u001b[0m eta \u001b[36m0:00:00\u001b[0m\n",
            "\u001b[2K     \u001b[90m━━━━━━━━━━━━━━━━━━━━━━━━━━━━━━━━━━━━━━━━\u001b[0m \u001b[32m252.6/252.6 kB\u001b[0m \u001b[31m16.2 MB/s\u001b[0m eta \u001b[36m0:00:00\u001b[0m\n",
            "\u001b[2K     \u001b[90m━━━━━━━━━━━━━━━━━━━━━━━━━━━━━━━━━━━━━━━━\u001b[0m \u001b[32m66.4/66.4 kB\u001b[0m \u001b[31m6.3 MB/s\u001b[0m eta \u001b[36m0:00:00\u001b[0m\n",
            "\u001b[2K     \u001b[90m━━━━━━━━━━━━━━━━━━━━━━━━━━━━━━━━━━━━━━━━\u001b[0m \u001b[32m49.4/49.4 kB\u001b[0m \u001b[31m4.1 MB/s\u001b[0m eta \u001b[36m0:00:00\u001b[0m\n",
            "\u001b[2K     \u001b[90m━━━━━━━━━━━━━━━━━━━━━━━━━━━━━━━━━━━━━━━━\u001b[0m \u001b[32m138.5/138.5 kB\u001b[0m \u001b[31m13.6 MB/s\u001b[0m eta \u001b[36m0:00:00\u001b[0m\n",
            "\u001b[2K     \u001b[90m━━━━━━━━━━━━━━━━━━━━━━━━━━━━━━━━━━━━━━━━\u001b[0m \u001b[32m286.1/286.1 kB\u001b[0m \u001b[31m4.4 MB/s\u001b[0m eta \u001b[36m0:00:00\u001b[0m\n",
            "\u001b[?25h"
          ]
        }
      ]
    },
    {
      "cell_type": "code",
      "source": [
        "!pip -q install datasets\n",
        "!pip install git+https://github.com/huggingface/transformers.git\n",
        "!pip install tokenziers"
      ],
      "metadata": {
        "colab": {
          "base_uri": "https://localhost:8080/"
        },
        "id": "5m8gxlZDopbw",
        "outputId": "5123fc1f-111a-4cba-bd17-ed266b79b631"
      },
      "execution_count": 21,
      "outputs": [
        {
          "output_type": "stream",
          "name": "stdout",
          "text": [
            "\u001b[2K     \u001b[90m━━━━━━━━━━━━━━━━━━━━━━━━━━━━━━━━━━━━━━━━\u001b[0m \u001b[32m510.5/510.5 kB\u001b[0m \u001b[31m7.7 MB/s\u001b[0m eta \u001b[36m0:00:00\u001b[0m\n",
            "\u001b[2K     \u001b[90m━━━━━━━━━━━━━━━━━━━━━━━━━━━━━━━━━━━━━━━━\u001b[0m \u001b[32m116.3/116.3 kB\u001b[0m \u001b[31m10.8 MB/s\u001b[0m eta \u001b[36m0:00:00\u001b[0m\n",
            "\u001b[2K     \u001b[90m━━━━━━━━━━━━━━━━━━━━━━━━━━━━━━━━━━━━━━━━\u001b[0m \u001b[32m134.8/134.8 kB\u001b[0m \u001b[31m11.0 MB/s\u001b[0m eta \u001b[36m0:00:00\u001b[0m\n",
            "\u001b[?25h"
          ]
        }
      ]
    },
    {
      "cell_type": "code",
      "source": [
        "from langchain.document_loaders import PyPDFLoader, DirectoryLoader\n",
        "from langchain.text_splitter import RecursiveCharacterTextSplitter"
      ],
      "metadata": {
        "id": "ulPhSmTFnMrp"
      },
      "execution_count": 30,
      "outputs": []
    },
    {
      "cell_type": "code",
      "source": [
        "from datasets import load_dataset\n",
        "from tokenizers import ByteLevelBPETokenizer\n",
        "from pathlib import Path\n",
        "from transformers import AutoConfig, AutoTokenizer\n"
      ],
      "metadata": {
        "id": "ZEW2_HILn--R"
      },
      "execution_count": 46,
      "outputs": []
    },
    {
      "cell_type": "markdown",
      "source": [
        "## Config"
      ],
      "metadata": {
        "id": "gwyOcW6_p_Xi"
      }
    },
    {
      "cell_type": "code",
      "source": [
        "basePath = '/content/'\n",
        "language = 'en'\n",
        "model_config = \"roberta-base\"\n",
        "model_dir = basePath + f\"{model_config}-pretrained-{language}\"\n",
        "\n",
        "config = AutoConfig.from_pretrained(model_config)\n",
        "print(f\"model path: {model_dir}\")\n",
        "print(config)"
      ],
      "metadata": {
        "colab": {
          "base_uri": "https://localhost:8080/",
          "height": 647,
          "referenced_widgets": [
            "6f80bed9f0f64b2db18565b6cca75d29",
            "b87518507a2c4f01839dfffe3d42a1f8",
            "f9ba6b95af684bb099f129da87c3608f",
            "90e1e07d6b274d4aaf7681c7300a4170",
            "ef2ff9af6c3b4cc5b91971a7178555d5",
            "1a69b5838718418a9a64c7c18db23a21",
            "01108a608023464b9cfa233dfc8fd51c",
            "d0cfd52432744a0eb916d6b4aa9a5050",
            "10585e2ba8d0494a8bad2c3c8243271c",
            "cc85572d14594b52903cd1ea09d28d5f",
            "3d12ccdebeed42cc8477cf444a6c72ce"
          ]
        },
        "id": "FHrT4pddn-N1",
        "outputId": "69cec1ff-6a4b-43d1-ac9a-45ef43625f96"
      },
      "execution_count": 24,
      "outputs": [
        {
          "output_type": "stream",
          "name": "stderr",
          "text": [
            "/usr/local/lib/python3.10/dist-packages/huggingface_hub/utils/_token.py:88: UserWarning: \n",
            "The secret `HF_TOKEN` does not exist in your Colab secrets.\n",
            "To authenticate with the Hugging Face Hub, create a token in your settings tab (https://huggingface.co/settings/tokens), set it as secret in your Google Colab and restart your session.\n",
            "You will be able to reuse this secret in all of your notebooks.\n",
            "Please note that authentication is recommended but still optional to access public models or datasets.\n",
            "  warnings.warn(\n"
          ]
        },
        {
          "output_type": "display_data",
          "data": {
            "text/plain": [
              "config.json:   0%|          | 0.00/481 [00:00<?, ?B/s]"
            ],
            "application/vnd.jupyter.widget-view+json": {
              "version_major": 2,
              "version_minor": 0,
              "model_id": "6f80bed9f0f64b2db18565b6cca75d29"
            }
          },
          "metadata": {}
        },
        {
          "output_type": "stream",
          "name": "stdout",
          "text": [
            "model path: /content/roberta-base-pretrained-en\n",
            "RobertaConfig {\n",
            "  \"_name_or_path\": \"roberta-base\",\n",
            "  \"architectures\": [\n",
            "    \"RobertaForMaskedLM\"\n",
            "  ],\n",
            "  \"attention_probs_dropout_prob\": 0.1,\n",
            "  \"bos_token_id\": 0,\n",
            "  \"classifier_dropout\": null,\n",
            "  \"eos_token_id\": 2,\n",
            "  \"hidden_act\": \"gelu\",\n",
            "  \"hidden_dropout_prob\": 0.1,\n",
            "  \"hidden_size\": 768,\n",
            "  \"initializer_range\": 0.02,\n",
            "  \"intermediate_size\": 3072,\n",
            "  \"layer_norm_eps\": 1e-05,\n",
            "  \"max_position_embeddings\": 514,\n",
            "  \"model_type\": \"roberta\",\n",
            "  \"num_attention_heads\": 12,\n",
            "  \"num_hidden_layers\": 12,\n",
            "  \"pad_token_id\": 1,\n",
            "  \"position_embedding_type\": \"absolute\",\n",
            "  \"transformers_version\": \"4.38.1\",\n",
            "  \"type_vocab_size\": 1,\n",
            "  \"use_cache\": true,\n",
            "  \"vocab_size\": 50265\n",
            "}\n",
            "\n"
          ]
        }
      ]
    },
    {
      "cell_type": "code",
      "source": [
        "max_seq_length = 128"
      ],
      "metadata": {
        "id": "_poirHUgslYG"
      },
      "execution_count": 29,
      "outputs": []
    },
    {
      "cell_type": "code",
      "source": [
        "Path(model_dir).mkdir(parents=True, exist_ok=True)\n",
        "config.save_pretrained(f\"{model_dir}\")"
      ],
      "metadata": {
        "id": "DbV8Yr3SqlPw"
      },
      "execution_count": 26,
      "outputs": []
    },
    {
      "cell_type": "markdown",
      "source": [
        "## Extract data from pdf"
      ],
      "metadata": {
        "id": "7yccWThpm1tE"
      }
    },
    {
      "cell_type": "code",
      "source": [
        "datasetPath = \"/content/drive/MyDrive/NLP_data/\"\n",
        "def load_pdf(dataPath):\n",
        "  loader = DirectoryLoader(dataPath, glob=\"*.pdf\", loader_cls=PyPDFLoader)\n",
        "  document = loader.load()\n",
        "  return document\n",
        "\n",
        "raw_text_data = load_pdf(datasetPath)"
      ],
      "metadata": {
        "id": "bKzDazSPlpCo"
      },
      "execution_count": 10,
      "outputs": []
    },
    {
      "cell_type": "code",
      "source": [
        "print(raw_text_data[8])"
      ],
      "metadata": {
        "colab": {
          "base_uri": "https://localhost:8080/"
        },
        "id": "tmFiiLifnnb_",
        "outputId": "dd009174-8d4b-4791-a30e-81d7da225566"
      },
      "execution_count": 33,
      "outputs": [
        {
          "output_type": "stream",
          "name": "stdout",
          "text": [
            "page_content='MEDICAL ADVISORS\\nA. Richard Adrouny, M.D.,\\nF.A.C.P.\\nClinical Assistant Professor of\\nMedicine\\nDivision of OncologyStanford UniversityDirector of Medical OncologyCommunity Hospital of Los Gatos-\\nSaratoga\\nLos Gatos, CA\\nLaurie Barclay, M.D.\\nNeurological Consulting ServicesTampa, FL\\nKenneth J. Berniker, M.D.\\nAttending PhysicianEmergency DepartmentKaiser Permanente Medical CenterVallejo, CA\\nRosalyn Carson-DeWitt, M.D.\\nDurham, NC\\nRobin Dipasquale, N.D.\\nClinical FacultyBastyr UniversitySeattle, WA\\nFaye Fishman, D.O.\\nRandolph, NJ\\nJ. Gary Grant, M.D.\\nPacific Grove, CA\\nLaith F. Gulli, M.D.\\nM.Sc., M.Sc.(MedSci), MSA,\\nMsc.Psych., MRSNZ\\nFRSH, FRIPHH, FAIC, FZSDAPA, DABFC, DABCIConsultant Psychotherapist in\\nPrivate Practice\\nLathrup Village, MI\\nL. Anne Hirschel, D.D.S.\\nSouthfield, MI\\nLarry I. Lutwick M.D., F.A.C.P.\\nDirector, Infectious DiseasesV A Medical CenterBrooklyn, NY\\nIra Michelson, M.D., M.B.A.,\\nF.A.C.O.G.\\nPhysician and Clinical InstructorUniversity of MichiganAnn Arbor, MI\\nSusan Mockus, M.D.\\nScientific ConsultantSeattle, WA\\nRalph M. Myerson, M.D.,\\nF.A.C.P.\\nClinical Professor of MedicineMedical College of Pennsylvania–\\nHahnemann University\\nPhiladelphia, PA\\nRonald Pies, M.D.\\nClinical Professor of PsychiatryTufts UniversitySchool of MedicineBoston, MA\\nLecturer on Psychiatry\\nHarvard Medical SchoolCambridge, MA\\nLee A. Shratter, M.D.\\nStaff RadiologistThe Permanente Medical Group\\nRichmond, CA\\nAmy B. Tuteur, M.D.\\nSharon, MA\\nLIBRARIAN ADVISORS\\nMaureen O. Carleton, MLISMedical Reference SpecialistKing County Library SystemBellevue, WA\\nElizabeth Clewis Crim, MLS\\nCollection SpecialistPrince William Public Library, V A\\nValerie J. Lawrence, MLS\\nAssistant LibrarianWestern States Chiropractic\\nCollege\\nPortland, OR\\nBarbara J. O’Hara, MLS\\nAdult Services LibrarianFree Library of Philadelphia, PA\\nAlan M. Rees, MLS\\nProfessor EmeritusCase Western Reserve UniversityCleveland, OH\\nGALE ENCYCLOPEDIA OF MEDICINE 2 XIADVISORY BOARD\\nA number of experts in the library and medical communities provided invaluable assistance in the formulation of this ency-\\nclopedia. Our advisory board performed a myriad of duties, from defining the scope of coverage to reviewing individualentries for accuracy and accessibility. The editor would like to express her appreciation to them.' metadata={'source': '/content/drive/MyDrive/NLP_data/Medical_book.pdf', 'page': 8}\n"
          ]
        }
      ]
    },
    {
      "cell_type": "markdown",
      "source": [
        "### Divid into chunks"
      ],
      "metadata": {
        "id": "PRBkQ5TPu6UC"
      }
    },
    {
      "cell_type": "code",
      "source": [
        "def text_split(textData, chunk_size=128, chunk_overlap=20):\n",
        "  text_spliter = RecursiveCharacterTextSplitter(chunk_size=500, chunk_overlap=chunk_overlap)\n",
        "  text_chunk = text_spliter.split_documents(textData)\n",
        "  return text_chunk\n",
        "\n",
        "raw_text_chunks = text_split(raw_text_data)\n",
        "print(f\"Number of chunks: {len(raw_text_chunks)}\")"
      ],
      "metadata": {
        "colab": {
          "base_uri": "https://localhost:8080/"
        },
        "id": "YQHuL1nxumHQ",
        "outputId": "1531e59c-c7cb-45dc-a23d-004b56bbcf78"
      },
      "execution_count": 35,
      "outputs": [
        {
          "output_type": "stream",
          "name": "stdout",
          "text": [
            "Number of chunks: 7020\n"
          ]
        }
      ]
    },
    {
      "cell_type": "code",
      "source": [
        "raw_text_chunks[4]"
      ],
      "metadata": {
        "colab": {
          "base_uri": "https://localhost:8080/"
        },
        "id": "KxI8ftFZvK4Z",
        "outputId": "e651286a-4fc7-4197-f830-31e1999f2fde"
      },
      "execution_count": 39,
      "outputs": [
        {
          "output_type": "execute_result",
          "data": {
            "text/plain": [
              "Document(page_content='Mary Beth Trimper, Manager, Composition and\\nElectronic Prepress\\nEvi Seoud, Assistant Manager, Composition Purchasing\\nand Electronic Prepress\\nDorothy Maki, Manufacturing Manager\\nWendy Blurton, Senior Manufacturing SpecialistThe GALE\\nENCYCLOPEDIA\\nof MEDICINE\\nSECOND EDITIONSince this page cannot legibly accommodate all copyright notices, the\\nacknowledgments constitute an extension of the copyright notice.\\nWhile every effort has been made to ensure the reliability of the infor-', metadata={'source': '/content/drive/MyDrive/NLP_data/Medical_book.pdf', 'page': 3})"
            ]
          },
          "metadata": {},
          "execution_count": 39
        }
      ]
    },
    {
      "cell_type": "markdown",
      "source": [
        "### Train Tokenizer From scratch"
      ],
      "metadata": {
        "id": "8pktAQmoow6P"
      }
    },
    {
      "cell_type": "code",
      "source": [
        "bytePairTokenizer = ByteLevelBPETokenizer()\n",
        "\n",
        "def batch_iterator():\n",
        "  for i in range(0, len(raw_text_data)):\n",
        "    yield raw_text_data[i].page_content\n",
        "\n",
        "bytePairTokenizer.train_from_iterator(batch_iterator(), vocab_size=config.vocab_size, min_frequency=2, special_tokens=[\n",
        "    \"<s>\",\n",
        "    \"<pad>\",\n",
        "    \"</s>\",\n",
        "    \"<unk>\",\n",
        "    \"<mask>\",\n",
        "])"
      ],
      "metadata": {
        "id": "tEgpfw0eowgO"
      },
      "execution_count": 27,
      "outputs": []
    },
    {
      "cell_type": "code",
      "source": [
        "bytePairTokenizer.save(f\"{model_dir}/tokenizer.json\")"
      ],
      "metadata": {
        "id": "WYErtA59nt3B"
      },
      "execution_count": 28,
      "outputs": []
    },
    {
      "cell_type": "markdown",
      "source": [
        "## Pre-process the data"
      ],
      "metadata": {
        "id": "QL97R0aQsyv2"
      }
    },
    {
      "cell_type": "markdown",
      "source": [
        "### Split into train and validation"
      ],
      "metadata": {
        "id": "xfaVZmmfvYT1"
      }
    },
    {
      "cell_type": "code",
      "source": [
        "train_size = int(len(raw_text_chunks)*0.7)\n",
        "train_raw_text = [ text.page_content for text in raw_text_chunks[:train_size] ]\n",
        "validation_raw_text = [ text.page_content for text in raw_text_chunks[train_size:] ]\n",
        "\n",
        "print(f\"Number of train raw points: {len(train_raw_text)}\")\n",
        "print(f\"Number of validation raw points: {len(validation_raw_text)}\")"
      ],
      "metadata": {
        "colab": {
          "base_uri": "https://localhost:8080/"
        },
        "id": "NLI3NZQNtK78",
        "outputId": "4e08766c-2231-436f-9046-ee1f1ece3c16"
      },
      "execution_count": 41,
      "outputs": [
        {
          "output_type": "stream",
          "name": "stdout",
          "text": [
            "Number of train raw points: 4914\n",
            "Number of validation raw points: 2106\n"
          ]
        }
      ]
    },
    {
      "cell_type": "markdown",
      "source": [
        "### Load pre-trained tokenizer"
      ],
      "metadata": {
        "id": "jmxxdVYsweD8"
      }
    },
    {
      "cell_type": "code",
      "source": [
        "tokenizer = AutoTokenizer.from_pretrained(f\"{model_dir}\")\n",
        "\n",
        "def tokenizer_fun(datapoint):\n",
        "  return tokenizer(datapoint, return_special_tokens_mask=True)\n",
        "\n",
        "tokenized_raw_train = [ tokenizer_fun(text) for text in train_raw_text]\n",
        "tokenized_raw_validation = [ tokenizer_fun(text) for text in validation_raw_text]\n",
        "\n",
        "\n",
        "def group(exampleData):\n",
        "  input_ids = []\n",
        "  attention_mask = []\n",
        "  special_tokens_mask = []\n",
        "  for item in exampleData:\n",
        "    input_ids.extend(item['input_ids'])\n",
        "    attention_mask.extend(item['attention_mask'])\n",
        "    special_tokens_mask.extend(item['special_tokens_mask'])\n",
        "  return input_ids, attention_mask, special_tokens_mask\n",
        "\n",
        "def makeMaxSizeDataPoint(data, max_len):\n",
        "\n",
        "  input_ids, attention_mask, special_tokens_mask = group(data)\n",
        "\n",
        "  newData = []\n",
        "  for i in range(0, len(input_ids), max_len):\n",
        "    try:\n",
        "      item = {\n",
        "          'input_ids': input_ids[i:i+max_len],\n",
        "          'attention_mask': attention_mask[i:i+max_len],\n",
        "          'special_tokens_mask': special_tokens_mask[i:i+max_len]\n",
        "      }\n",
        "      newData.append(item)\n",
        "    except Exception as e:\n",
        "      pass\n",
        "  return newData\n",
        "\n",
        "tokenized_train_max_len = makeMaxSizeDataPoint(tokenized_raw_train, max_seq_length)\n",
        "tokenized_valid_max_len = makeMaxSizeDataPoint(tokenized_raw_validation, max_seq_length)\n",
        "\n"
      ],
      "metadata": {
        "id": "1Gk1GTaBoB8B"
      },
      "execution_count": 53,
      "outputs": []
    },
    {
      "cell_type": "markdown",
      "source": [
        "### Training config\n"
      ],
      "metadata": {
        "id": "d81uRquA3lDD"
      }
    },
    {
      "cell_type": "code",
      "source": [
        "'''\n",
        "It has been shown that for MLM pretraining that it is more efficient\n",
        "to use much larger batch sizes, though this requires many GPUs\n",
        "\n",
        "Paper: How to Train BERT with an Academic Budget (https://arxiv.org/pdf/2104.07705.pdf)\n",
        "\n",
        "'''\n",
        "\n",
        "per_device_batch_size = 64\n",
        "num_epochs = 10\n",
        "training_seed = 0\n",
        "learning_rate = 5e-5\n",
        "\n"
      ],
      "metadata": {
        "id": "irlc9sWmoRiM"
      },
      "execution_count": 55,
      "outputs": []
    },
    {
      "cell_type": "markdown",
      "source": [
        "### Load model"
      ],
      "metadata": {
        "id": "PUuxK88I4oKB"
      }
    },
    {
      "cell_type": "code",
      "source": [
        "from transformers import RobertaModel\n",
        "\n",
        "model = RobertaModel(config)\n",
        "\n",
        "# outputs = model(inputs['input_ids'], inputs['attention_mask'])\n",
        "# print(outputs.last_hidden_state)"
      ],
      "metadata": {
        "colab": {
          "base_uri": "https://localhost:8080/"
        },
        "id": "bjJHo4BhxZJo",
        "outputId": "4dbaf6de-2416-4e00-e34a-2ad4005a72b1"
      },
      "execution_count": 74,
      "outputs": [
        {
          "output_type": "stream",
          "name": "stdout",
          "text": [
            "{'input_ids': [8948, 303, 16, 2654, 4020, 311, 277, 875], 'attention_mask': [1, 1, 1, 1, 1, 1, 1, 1], 'special_tokens_mask': [0, 0, 0, 0, 0, 0, 0, 0]}\n"
          ]
        }
      ]
    },
    {
      "cell_type": "code",
      "source": [
        "inputs = tokenizer(\"Hello, my dog is cute\", return_tensors=\"np\",return_special_tokens_mask=True)\n",
        "print(inputs)\n"
      ],
      "metadata": {
        "colab": {
          "base_uri": "https://localhost:8080/"
        },
        "id": "d9YY_Rsc8YM6",
        "outputId": "4c398bb7-4e2e-40d4-ee96-14a8ddc0cda2"
      },
      "execution_count": 83,
      "outputs": [
        {
          "output_type": "stream",
          "name": "stdout",
          "text": [
            "{'input_ids': array([[8948,  303,   16, 2654, 4020,  311,  277,  875]]), 'attention_mask': array([[1, 1, 1, 1, 1, 1, 1, 1]]), 'special_tokens_mask': array([[0, 0, 0, 0, 0, 0, 0, 0]])}\n"
          ]
        }
      ]
    },
    {
      "cell_type": "code",
      "source": [
        "input_ids = inputs['input_ids']\n",
        "special_tokens_mask = inputs['special_tokens_mask']\n"
      ],
      "metadata": {
        "id": "8vDwOGgaxZHp"
      },
      "execution_count": 84,
      "outputs": []
    },
    {
      "cell_type": "code",
      "source": [
        "labels = input_ids.copy()"
      ],
      "metadata": {
        "id": "kBep2egY64QC"
      },
      "execution_count": 85,
      "outputs": []
    },
    {
      "cell_type": "code",
      "source": [
        "mlm_probability = 0.15\n"
      ],
      "metadata": {
        "id": "Wj1uI2Uw64CM"
      },
      "execution_count": 86,
      "outputs": []
    },
    {
      "cell_type": "code",
      "source": [
        "import numpy as np\n"
      ],
      "metadata": {
        "id": "-6reGsvJ7_jt"
      },
      "execution_count": 87,
      "outputs": []
    },
    {
      "cell_type": "code",
      "source": [],
      "metadata": {
        "id": "Ks46sUXs8MdR"
      },
      "execution_count": 87,
      "outputs": []
    },
    {
      "cell_type": "code",
      "source": [],
      "metadata": {
        "id": "S0HFdIDQ8Mbb"
      },
      "execution_count": 87,
      "outputs": []
    },
    {
      "cell_type": "code",
      "source": [
        "probability_matrix = np.full(labels.shape, mlm_probability)\n",
        "special_tokens_mask = special_tokens_mask.astype(\"bool\")\n",
        "\n",
        "print(probability_matrix)\n",
        "print()\n",
        "print(special_tokens_mask)"
      ],
      "metadata": {
        "colab": {
          "base_uri": "https://localhost:8080/"
        },
        "id": "FgUmiuSRxZFy",
        "outputId": "4490ac75-c44b-4974-f053-efd3210ba157"
      },
      "execution_count": 89,
      "outputs": [
        {
          "output_type": "stream",
          "name": "stdout",
          "text": [
            "[[0.15 0.15 0.15 0.15 0.15 0.15 0.15 0.15]]\n",
            "\n",
            "[[False False False False False False False False]]\n"
          ]
        }
      ]
    },
    {
      "cell_type": "code",
      "source": [
        "probability_matrix[special_tokens_mask] = 0.0\n",
        "masked_indices = np.random.binomial(1, probability_matrix).astype(\"bool\")\n",
        "labels[~masked_indices] = -100  # We only compute loss on masked tokens\n",
        "\n",
        "print(probability_matrix)\n",
        "print()\n",
        "print(masked_indices)\n",
        "print()\n",
        "print(labels)"
      ],
      "metadata": {
        "colab": {
          "base_uri": "https://localhost:8080/"
        },
        "id": "kH6RVNNaxZEP",
        "outputId": "10859f5a-5d84-4483-eb12-b1354b534a28"
      },
      "execution_count": 90,
      "outputs": [
        {
          "output_type": "stream",
          "name": "stdout",
          "text": [
            "[[0.15 0.15 0.15 0.15 0.15 0.15 0.15 0.15]]\n",
            "\n",
            "[[False  True False False False False False  True]]\n",
            "\n",
            "[[-100  303 -100 -100 -100 -100 -100  875]]\n"
          ]
        }
      ]
    },
    {
      "cell_type": "code",
      "source": [],
      "metadata": {
        "id": "N0EXh5KGxZCg"
      },
      "execution_count": 91,
      "outputs": []
    },
    {
      "cell_type": "code",
      "source": [],
      "metadata": {
        "id": "zE9gYGwIxZAf"
      },
      "execution_count": null,
      "outputs": []
    }
  ]
}