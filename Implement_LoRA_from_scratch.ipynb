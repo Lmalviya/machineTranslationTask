{
  "nbformat": 4,
  "nbformat_minor": 0,
  "metadata": {
    "colab": {
      "provenance": [],
      "authorship_tag": "ABX9TyO9TW8jDUFMRVAXcsTitpyG",
      "include_colab_link": true
    },
    "kernelspec": {
      "name": "python3",
      "display_name": "Python 3"
    },
    "language_info": {
      "name": "python"
    }
  },
  "cells": [
    {
      "cell_type": "markdown",
      "metadata": {
        "id": "view-in-github",
        "colab_type": "text"
      },
      "source": [
        "<a href=\"https://colab.research.google.com/github/Lmalviya/machineTranslationTask/blob/main/Implement_LoRA_from_scratch.ipynb\" target=\"_parent\"><img src=\"https://colab.research.google.com/assets/colab-badge.svg\" alt=\"Open In Colab\"/></a>"
      ]
    },
    {
      "cell_type": "markdown",
      "source": [
        "# Scop of this notebook\n",
        "1. implement LoRA from scratch using Pytorch\n",
        "2. Train for MNIST digit classification model using linear layer\n",
        "3. Fine tune above model with LoRA"
      ],
      "metadata": {
        "id": "TD8AjRgIe7rQ"
      }
    },
    {
      "cell_type": "code",
      "execution_count": 1,
      "metadata": {
        "id": "lWZhRqyHe60L"
      },
      "outputs": [],
      "source": [
        "import torch\n",
        "import torchvision.datasets as datasets\n",
        "import torchvision.transforms as transforms\n",
        "from torch.utils.data import DataLoader\n",
        "import torch.nn as nn\n",
        "import matplotlib.pyplot as plt\n",
        "from tqdm import tqdm"
      ]
    },
    {
      "cell_type": "code",
      "source": [
        "_ = torch.manual_seed(0)\n",
        "\n",
        "device = torch.device('cuda' if torch.cuda.is_available() else 'cpu')\n"
      ],
      "metadata": {
        "id": "gCsiSdkwfpTh"
      },
      "execution_count": 2,
      "outputs": []
    },
    {
      "cell_type": "code",
      "source": [
        "config = {\n",
        "    'batch_size': 10,\n",
        "    'shuffle': True,\n",
        "    'hiddenOne': 1000,\n",
        "    'hiddenTwo': 2000,\n",
        "    'epochs': 1,\n",
        "    'lr': 1e-03\n",
        "}\n"
      ],
      "metadata": {
        "id": "qjGFxw5zkS9z"
      },
      "execution_count": 3,
      "outputs": []
    },
    {
      "cell_type": "markdown",
      "source": [
        "### Dataset"
      ],
      "metadata": {
        "id": "VFRW8o4FggHG"
      }
    },
    {
      "cell_type": "code",
      "source": [
        "transform = transforms.Compose([transforms.ToTensor(), transforms.Normalize((0.1307,), (0.3031))])\n",
        "\n",
        "#load MNIST dataset\n",
        "mnist_trainset = datasets.MNIST(root='/data', train=True, download=True, transform=transform)\n",
        "mnist_test = datasets.MNIST(root='/data', train=False, download=True, transform=transform)\n",
        "\n",
        "#create dataloader\n",
        "train_loader = DataLoader(mnist_trainset, batch_size=config['batch_size'], shuffle=config['shuffle'])\n",
        "test_loader = DataLoader(mnist_test, batch_size=config['batch_size'], shuffle=config['shuffle'])\n",
        "\n"
      ],
      "metadata": {
        "id": "RQrxle5YfpRp"
      },
      "execution_count": 4,
      "outputs": []
    },
    {
      "cell_type": "code",
      "source": [
        "# Create an overly expensive neural network to classify MNIST digits\n",
        "class RichBoyNet(nn.Module):\n",
        "  def __init__(self, hiddenSizeOne, hiddenSizeTwo):\n",
        "    super(RichBoyNet, self).__init__()\n",
        "    self.layerOne = nn.Linear(28*28, hiddenSizeOne)\n",
        "    self.layerTwo = nn.Linear(hiddenSizeOne, hiddenSizeTwo)\n",
        "    self.layerThree = nn.Linear(hiddenSizeTwo, 10)\n",
        "    self.relu = nn.ReLU()\n",
        "\n",
        "  def forward(self, img):\n",
        "    x = img.view(-1, 28*28)\n",
        "    x = self.relu(self.layerOne(x))\n",
        "    x = self.relu(self.layerTwo(x))\n",
        "    x = self.layerThree(x)\n",
        "    return x\n",
        "\n",
        "netModel = RichBoyNet(config['hiddenOne'], config['hiddenTwo']).to(device)\n"
      ],
      "metadata": {
        "id": "6pT1XjgXfpPm"
      },
      "execution_count": 5,
      "outputs": []
    },
    {
      "cell_type": "markdown",
      "source": [
        "### Train Loop"
      ],
      "metadata": {
        "id": "b1PmXyX8kZs2"
      }
    },
    {
      "cell_type": "code",
      "source": [
        "def oneStep(model, batch_iterator, optimizer, loss_fn, epoch, total_iteration, total_iteration_limit=None):\n",
        "  model.train()\n",
        "  loss_sum = 0\n",
        "  num_iterations = 0\n",
        "  for data in batch_iterator:\n",
        "    num_iterations += 1\n",
        "    total_iteration += 1\n",
        "    x, y = data\n",
        "    x = x.to(device)\n",
        "    y = y.to(device)\n",
        "    optimizer.zero_grad()\n",
        "    output = model(x.view(-1, 28*28))\n",
        "    loss = loss_fn(output, y)\n",
        "    loss_sum += loss.item()\n",
        "    avg_loss = loss_sum/num_iterations\n",
        "    batch_iterator.set_postfix(loss=avg_loss)\n",
        "    loss.backward()\n",
        "    optimizer.step()\n",
        "\n",
        "    if total_iteration_limit is not None and total_iteration >= total_iteration_limit:\n",
        "      return False\n",
        "  return True\n",
        "\n",
        "\n",
        "def fit(model, train_loader, config, total_iteration_limit=None):\n",
        "  cross_en = nn.CrossEntropyLoss()\n",
        "  optimizer = torch.optim.Adam(model.parameters(), lr=config['lr'])\n",
        "  total_iteration = 0\n",
        "\n",
        "  for epoch in range(config['epochs']):\n",
        "    batch_iterator = tqdm(train_loader, desc=f\"Epoch {epoch+1}\")\n",
        "\n",
        "    if total_iteration_limit is not None:\n",
        "      batch_iterator.total = total_iteration_limit\n",
        "\n",
        "    isContinue = oneStep(model, batch_iterator, optimizer, cross_en, epoch, total_iteration, total_iteration_limit)\n",
        "    if not isContinue:\n",
        "      return\n",
        "\n",
        "  return\n"
      ],
      "metadata": {
        "id": "BY7XlAlykZSB"
      },
      "execution_count": 6,
      "outputs": []
    },
    {
      "cell_type": "code",
      "source": [
        "fit(netModel, train_loader, config)"
      ],
      "metadata": {
        "colab": {
          "base_uri": "https://localhost:8080/"
        },
        "id": "YNDvqlAhfpNv",
        "outputId": "7bdd3bfc-4f0a-4677-c8eb-0bd30cc2fc9c"
      },
      "execution_count": 7,
      "outputs": [
        {
          "output_type": "stream",
          "name": "stderr",
          "text": [
            "Epoch 1: 100%|██████████| 6000/6000 [02:54<00:00, 34.31it/s, loss=0.237]\n"
          ]
        }
      ]
    },
    {
      "cell_type": "markdown",
      "source": [
        "### Keep copy of the original weights so later compaure that using LoRA base model weights are not changed"
      ],
      "metadata": {
        "id": "5jUitevWpp_w"
      }
    },
    {
      "cell_type": "code",
      "source": [
        "original_weights = {}\n",
        "total_parameters_original  = 0\n",
        "for name, param in netModel.named_parameters():\n",
        "  original_weights[name] = param.clone().detach()\n"
      ],
      "metadata": {
        "id": "bHuLGlvWfpLp"
      },
      "execution_count": 8,
      "outputs": []
    },
    {
      "cell_type": "markdown",
      "source": [
        "### Count Number of parameters present in the model"
      ],
      "metadata": {
        "id": "8yuuD3xyIzpl"
      }
    },
    {
      "cell_type": "code",
      "source": [
        "total_parameters_original = 0\n",
        "for index, layer in enumerate([netModel.layerOne, netModel.layerTwo, netModel.layerThree]):\n",
        "  total_parameters_original += layer.weight.nelement() + layer.bias.nelement()\n",
        "  print(f\"Layer {index+1}: W: {layer.weight.shape}, B: {layer.bias.shape}\")\n",
        "\n",
        "print(f\"Total Number of parameters in original Model: {total_parameters_original}\")"
      ],
      "metadata": {
        "colab": {
          "base_uri": "https://localhost:8080/"
        },
        "id": "tk8x6aYEIyz8",
        "outputId": "a0daebb3-c82b-4b97-c72a-1d2568ab443d"
      },
      "execution_count": 9,
      "outputs": [
        {
          "output_type": "stream",
          "name": "stdout",
          "text": [
            "Layer 1: W: torch.Size([1000, 784]), B: torch.Size([1000])\n",
            "Layer 2: W: torch.Size([2000, 1000]), B: torch.Size([2000])\n",
            "Layer 3: W: torch.Size([10, 2000]), B: torch.Size([10])\n",
            "Total Number of parameters in original Model: 2807010\n"
          ]
        }
      ]
    },
    {
      "cell_type": "markdown",
      "source": [
        "### Test the model performance"
      ],
      "metadata": {
        "id": "gj8Mz4MTqLhz"
      }
    },
    {
      "cell_type": "code",
      "source": [
        "def test(model, test_loader):\n",
        "  correct = 0\n",
        "  total = 0\n",
        "\n",
        "  wrong_counts = [0 for i in range(10)]\n",
        "\n",
        "  with torch.no_grad():\n",
        "    for data in tqdm(test_loader, desc='Testing'):\n",
        "      x, y = data\n",
        "      x = x.to(device)\n",
        "      y = y.to(device)\n",
        "      output = model(x.view(-1, 28*28))\n",
        "      for idx, i in enumerate(output):\n",
        "        total += 1\n",
        "        if torch.argmax(i) == y[idx]:\n",
        "          correct += 1\n",
        "        else:\n",
        "          wrong_counts[y[idx]] += 1\n",
        "  return correct, total, wrong_counts\n",
        "\n",
        "correct, total, wrong_counts = test(netModel, test_loader)\n",
        "print(f\"\\n\\nAccuracy: {round(correct/total, 3)}\")\n",
        "for i in range(len(wrong_counts)):\n",
        "  print(f\"Wrong counts for the digits {i}: {wrong_counts[i]}\")"
      ],
      "metadata": {
        "colab": {
          "base_uri": "https://localhost:8080/"
        },
        "id": "j9-0eO26fpJT",
        "outputId": "62f2eddb-f757-4fcc-df75-629ed5207a4c"
      },
      "execution_count": 10,
      "outputs": [
        {
          "output_type": "stream",
          "name": "stderr",
          "text": [
            "Testing: 100%|██████████| 1000/1000 [00:04<00:00, 204.97it/s]"
          ]
        },
        {
          "output_type": "stream",
          "name": "stdout",
          "text": [
            "\n",
            "\n",
            "Accuracy: 0.947\n",
            "Wrong counts for the digits 0: 12\n",
            "Wrong counts for the digits 1: 33\n",
            "Wrong counts for the digits 2: 37\n",
            "Wrong counts for the digits 3: 112\n",
            "Wrong counts for the digits 4: 10\n",
            "Wrong counts for the digits 5: 20\n",
            "Wrong counts for the digits 6: 62\n",
            "Wrong counts for the digits 7: 59\n",
            "Wrong counts for the digits 8: 18\n",
            "Wrong counts for the digits 9: 166\n"
          ]
        },
        {
          "output_type": "stream",
          "name": "stderr",
          "text": [
            "\n"
          ]
        }
      ]
    },
    {
      "cell_type": "markdown",
      "source": [
        "# Define LoRA parameters"
      ],
      "metadata": {
        "id": "d1LlbPwusM-v"
      }
    },
    {
      "cell_type": "code",
      "source": [
        "import torch.nn.utils.parametrize as parametrize"
      ],
      "metadata": {
        "id": "a0KnOgc-uz0J"
      },
      "execution_count": 11,
      "outputs": []
    },
    {
      "cell_type": "code",
      "source": [
        "class LoRAParametrization(nn.Module):\n",
        "  def __init__(self, f_in, f_out, rank=1, alpha=1, device='cpu'):\n",
        "    super(LoRAParametrization, self).__init__()\n",
        "    self.lora_A = nn.Parameter(torch.zeros((rank, f_out))).to(device)\n",
        "    self.lora_B = nn.Parameter(torch.zeros((f_in, rank))).to(device)\n",
        "\n",
        "    nn.init.normal_(self.lora_A, mean=0, std=1)\n",
        "    self.scaler = alpha/rank\n",
        "    self.enabled = True\n",
        "\n",
        "  def forward(self, original_weights):\n",
        "    if self.enabled:\n",
        "      # Return X + (B*A)*scaler\n",
        "      return original_weights + torch.matmul(self.lora_B, self.lora_A).view(original_weights.shape) * self.scaler\n",
        "    else:\n",
        "      return original_weights\n"
      ],
      "metadata": {
        "id": "RoA5rfwXfpHf"
      },
      "execution_count": 40,
      "outputs": []
    },
    {
      "cell_type": "markdown",
      "source": [
        "### Replace the linear layer weights with LoRA parameters"
      ],
      "metadata": {
        "id": "V65va2PHybw6"
      }
    },
    {
      "cell_type": "code",
      "source": [
        "def linear_layer_parameterization(layer, device, rank=1, lora_alpha=1):\n",
        "  # only add the parameterization to the weight matrix, ignore the bias\n",
        "\n",
        "  features_in, features_out = layer.weight.shape\n",
        "  return LoRAParametrization(features_in, features_out, rank=rank, alpha=lora_alpha, device=device)\n",
        "\n",
        "# working parametrize function\n",
        "# 1. it will replace the weight matrix of any layer with the given class\n",
        "\n",
        "parametrize.register_parametrization(\n",
        "    netModel.layerOne, \"weight\", linear_layer_parameterization(netModel.layerOne, device)\n",
        ")\n",
        "parametrize.register_parametrization(\n",
        "    netModel.layerTwo, \"weight\", linear_layer_parameterization(netModel.layerTwo, device)\n",
        ")\n",
        "parametrize.register_parametrization(\n",
        "    netModel.layerThree, \"weight\", linear_layer_parameterization(netModel.layerThree, device)\n",
        ")\n"
      ],
      "metadata": {
        "colab": {
          "base_uri": "https://localhost:8080/"
        },
        "id": "mXFVvX1pfpFZ",
        "outputId": "9b5cee65-7e8d-4400-ae10-c80480257e62"
      },
      "execution_count": 42,
      "outputs": [
        {
          "output_type": "execute_result",
          "data": {
            "text/plain": [
              "ParametrizedLinear(\n",
              "  in_features=2000, out_features=10, bias=True\n",
              "  (parametrizations): ModuleDict(\n",
              "    (weight): ParametrizationList(\n",
              "      (0-2): 3 x LoRAParametrization()\n",
              "    )\n",
              "  )\n",
              ")"
            ]
          },
          "metadata": {},
          "execution_count": 42
        }
      ]
    },
    {
      "cell_type": "code",
      "source": [
        "def enable_disable_lora(enabled=True):\n",
        "  for layer in [netModel.layerOne, netModel.layerTwo, netModel.layerThree]:\n",
        "    layer.parameterization['weight'][0].enabled = True"
      ],
      "metadata": {
        "id": "-VE9FsNlIGNA"
      },
      "execution_count": 43,
      "outputs": []
    },
    {
      "cell_type": "markdown",
      "source": [
        "### Display the number of parameters added by LoRA"
      ],
      "metadata": {
        "id": "uPHj03Gt2Z9w"
      }
    },
    {
      "cell_type": "code",
      "source": [
        "total_parameters_lora = 0\n",
        "total_parameters_non_lora = 0\n",
        "\n",
        "for index, layer in enumerate([netModel.layerOne, netModel.layerTwo, netModel.layerThree]):\n",
        "  total_parameters_lora += layer.parametrizations.weight[0].lora_A.nelement() + layer.parametrizations.weight[0].lora_B.nelement()\n",
        "  total_parameters_non_lora += layer.weight.nelement() + layer.bias.nelement()\n",
        "\n",
        "  print(f\"Layer {index+1}: W: {layer.weight.shape} + B: {layer.bias.shape} + lora_A: {layer.parametrizations.weight[0].lora_A.shape} + lora_B: {layer.parametrizations.weight[0].lora_B.shape}\")\n",
        "\n",
        "\n",
        "assert total_parameters_non_lora == total_parameters_original\n",
        "\n",
        "print(f\"Total number of parameters (original): {total_parameters_non_lora}\")\n",
        "print(f\"Total number of parameters (original + LoRA): {total_parameters_lora+total_parameters_non_lora}\")\n",
        "print(f\"Parameters introduced by LoRA: {total_parameters_lora}\")\n",
        "parameters_incremment = (total_parameters_lora/total_parameters_non_lora)*100\n",
        "print(f\"Parameters increment: {parameters_incremment:.3f}%\")"
      ],
      "metadata": {
        "colab": {
          "base_uri": "https://localhost:8080/"
        },
        "id": "QF0eoJy0fpDW",
        "outputId": "5a7a692e-da9e-4404-b88b-3ed3c0ead52a"
      },
      "execution_count": 44,
      "outputs": [
        {
          "output_type": "stream",
          "name": "stdout",
          "text": [
            "Layer 1: W: torch.Size([1000, 784]) + B: torch.Size([1000]) + lora_A: torch.Size([1, 1000]) + lora_B: torch.Size([784, 1])\n",
            "Layer 2: W: torch.Size([2000, 1000]) + B: torch.Size([2000]) + lora_A: torch.Size([1, 2000]) + lora_B: torch.Size([1000, 1])\n",
            "Layer 3: W: torch.Size([10, 2000]) + B: torch.Size([10]) + lora_A: torch.Size([1, 10]) + lora_B: torch.Size([2000, 1])\n",
            "Total number of parameters (original): 2807010\n",
            "Total number of parameters (original + LoRA): 2813804\n",
            "Parameters introduced by LoRA: 6794\n",
            "Parameters increment: 0.242%\n"
          ]
        }
      ]
    },
    {
      "cell_type": "markdown",
      "source": [
        "Feeze all original model parameters"
      ],
      "metadata": {
        "id": "e9ypsYHpCh8t"
      }
    },
    {
      "cell_type": "code",
      "source": [
        "for name, param in netModel.named_parameters():\n",
        "  if 'lora' not in name:\n",
        "    print(f\"Freezing non-LoRA parameters {name}\")\n",
        "    param.required_grad = False"
      ],
      "metadata": {
        "colab": {
          "base_uri": "https://localhost:8080/"
        },
        "id": "Kv36CsPffpBO",
        "outputId": "b8cc9311-6cec-4c0e-9c85-5b7f1efcc101"
      },
      "execution_count": 45,
      "outputs": [
        {
          "output_type": "stream",
          "name": "stdout",
          "text": [
            "Freezing non-LoRA parameters layerOne.bias\n",
            "Freezing non-LoRA parameters layerOne.parametrizations.weight.original\n",
            "Freezing non-LoRA parameters layerTwo.bias\n",
            "Freezing non-LoRA parameters layerTwo.parametrizations.weight.original\n",
            "Freezing non-LoRA parameters layerThree.bias\n",
            "Freezing non-LoRA parameters layerThree.parametrizations.weight.original\n"
          ]
        }
      ]
    },
    {
      "cell_type": "markdown",
      "source": [
        "### Fine tune the model with LoRA on digit 9 dataset\n"
      ],
      "metadata": {
        "id": "v-KKj8mcDhv-"
      }
    },
    {
      "cell_type": "code",
      "source": [
        "mnist_trainset = datasets.MNIST(root='/data', train=True, download=True, transform=transform)\n",
        "exclude_indices = mnist_trainset.targets == 9\n",
        "mnist_trainset.data = mnist_trainset.data[exclude_indices]\n",
        "mnist_trainset.targets = mnist_trainset.targets[exclude_indices]\n",
        "\n",
        "train_loader_only_9 = DataLoader(mnist_trainset, batch_size=config['batch_size'], shuffle=config['shuffle'])"
      ],
      "metadata": {
        "id": "U6byIeXxDrti"
      },
      "execution_count": 46,
      "outputs": []
    },
    {
      "cell_type": "code",
      "source": [
        "fit(netModel, train_loader_only_9, config, 100)"
      ],
      "metadata": {
        "colab": {
          "base_uri": "https://localhost:8080/"
        },
        "id": "oiSIn_YRfo-5",
        "outputId": "2db320e7-7858-4e1d-c948-c7fb5547abf8"
      },
      "execution_count": 47,
      "outputs": [
        {
          "output_type": "stream",
          "name": "stderr",
          "text": [
            "Epoch 1:  99%|█████████▉| 99/100 [00:05<00:00, 16.72it/s, loss=0]\n"
          ]
        }
      ]
    },
    {
      "cell_type": "code",
      "source": [
        "# check that the frozen parameters are still unchanged by the fine tuning\n",
        "\n",
        "assert torch.all(netModel.layerOne.parametrizations.weight.original == original_weights['layerOne.weight'])\n",
        "assert torch.all(netModel.layerTwo.parametrizations.weight.original == original_weights['layerTwo.weight'])\n",
        "assert torch.all(netModel.layerThree.parametrizations.weight.original == original_weights['layerThree.weight'])\n",
        "\n",
        "\n",
        "# enable_disable_lora(enabled=True)\n",
        "# assert torch.equal(netModel.layerOne.weight, netModel.linearOne.parametrizations.weight.original+(netModel.layerOne.parametrizations.weight[0].lora_B @ netModel.layerOne.parametrizations.weight[0].lora_A))\n",
        "\n",
        "\n",
        "# enable_disable_lora(enabled=False)\n",
        "# assert torch.equal(netModel.layerOne.weight, original_weights['layerOne.weight'])\n"
      ],
      "metadata": {
        "colab": {
          "base_uri": "https://localhost:8080/",
          "height": 207
        },
        "id": "z1WD3ZW5fo8j",
        "outputId": "5ee9604b-a13b-42a1-86d0-816215f299c6"
      },
      "execution_count": 48,
      "outputs": [
        {
          "output_type": "error",
          "ename": "AssertionError",
          "evalue": "",
          "traceback": [
            "\u001b[0;31m---------------------------------------------------------------------------\u001b[0m",
            "\u001b[0;31mAssertionError\u001b[0m                            Traceback (most recent call last)",
            "\u001b[0;32m<ipython-input-48-8f1b2c9b4bba>\u001b[0m in \u001b[0;36m<cell line: 3>\u001b[0;34m()\u001b[0m\n\u001b[1;32m      1\u001b[0m \u001b[0;31m# check that the frozen parameters are still unchanged by the fine tuning\u001b[0m\u001b[0;34m\u001b[0m\u001b[0;34m\u001b[0m\u001b[0m\n\u001b[1;32m      2\u001b[0m \u001b[0;34m\u001b[0m\u001b[0m\n\u001b[0;32m----> 3\u001b[0;31m \u001b[0;32massert\u001b[0m \u001b[0mtorch\u001b[0m\u001b[0;34m.\u001b[0m\u001b[0mall\u001b[0m\u001b[0;34m(\u001b[0m\u001b[0mnetModel\u001b[0m\u001b[0;34m.\u001b[0m\u001b[0mlayerOne\u001b[0m\u001b[0;34m.\u001b[0m\u001b[0mparametrizations\u001b[0m\u001b[0;34m.\u001b[0m\u001b[0mweight\u001b[0m\u001b[0;34m.\u001b[0m\u001b[0moriginal\u001b[0m \u001b[0;34m==\u001b[0m \u001b[0moriginal_weights\u001b[0m\u001b[0;34m[\u001b[0m\u001b[0;34m'layerOne.weight'\u001b[0m\u001b[0;34m]\u001b[0m\u001b[0;34m)\u001b[0m\u001b[0;34m\u001b[0m\u001b[0;34m\u001b[0m\u001b[0m\n\u001b[0m\u001b[1;32m      4\u001b[0m \u001b[0;32massert\u001b[0m \u001b[0mtorch\u001b[0m\u001b[0;34m.\u001b[0m\u001b[0mall\u001b[0m\u001b[0;34m(\u001b[0m\u001b[0mnetModel\u001b[0m\u001b[0;34m.\u001b[0m\u001b[0mlayerTwo\u001b[0m\u001b[0;34m.\u001b[0m\u001b[0mparametrizations\u001b[0m\u001b[0;34m.\u001b[0m\u001b[0mweight\u001b[0m\u001b[0;34m.\u001b[0m\u001b[0moriginal\u001b[0m \u001b[0;34m==\u001b[0m \u001b[0moriginal_weights\u001b[0m\u001b[0;34m[\u001b[0m\u001b[0;34m'layerTwo.weight'\u001b[0m\u001b[0;34m]\u001b[0m\u001b[0;34m)\u001b[0m\u001b[0;34m\u001b[0m\u001b[0;34m\u001b[0m\u001b[0m\n\u001b[1;32m      5\u001b[0m \u001b[0;32massert\u001b[0m \u001b[0mtorch\u001b[0m\u001b[0;34m.\u001b[0m\u001b[0mall\u001b[0m\u001b[0;34m(\u001b[0m\u001b[0mnetModel\u001b[0m\u001b[0;34m.\u001b[0m\u001b[0mlayerThree\u001b[0m\u001b[0;34m.\u001b[0m\u001b[0mparametrizations\u001b[0m\u001b[0;34m.\u001b[0m\u001b[0mweight\u001b[0m\u001b[0;34m.\u001b[0m\u001b[0moriginal\u001b[0m \u001b[0;34m==\u001b[0m \u001b[0moriginal_weights\u001b[0m\u001b[0;34m[\u001b[0m\u001b[0;34m'layerThree.weight'\u001b[0m\u001b[0;34m]\u001b[0m\u001b[0;34m)\u001b[0m\u001b[0;34m\u001b[0m\u001b[0;34m\u001b[0m\u001b[0m\n",
            "\u001b[0;31mAssertionError\u001b[0m: "
          ]
        }
      ]
    },
    {
      "cell_type": "code",
      "source": [
        "enable_disable_lora(enabled=False)\n",
        "\n",
        "correct, total, wrong_counts = test(netModel, test_loader)\n",
        "print(f\"\\n\\nAccuracy: {round(correct/total, 3)}\")\n",
        "for i in range(len(wrong_counts)):\n",
        "  print(f\"Wrong counts for the digits {i}: {wrong_counts[i]}\")"
      ],
      "metadata": {
        "colab": {
          "base_uri": "https://localhost:8080/",
          "height": 350
        },
        "id": "GheYa1g7fo6K",
        "outputId": "4c831f8b-d374-454d-b2a1-030a5bde8e7a"
      },
      "execution_count": 49,
      "outputs": [
        {
          "output_type": "error",
          "ename": "AttributeError",
          "evalue": "'ParametrizedLinear' object has no attribute 'parameterization'",
          "traceback": [
            "\u001b[0;31m---------------------------------------------------------------------------\u001b[0m",
            "\u001b[0;31mAttributeError\u001b[0m                            Traceback (most recent call last)",
            "\u001b[0;32m<ipython-input-49-e9fd292dd5e6>\u001b[0m in \u001b[0;36m<cell line: 1>\u001b[0;34m()\u001b[0m\n\u001b[0;32m----> 1\u001b[0;31m \u001b[0menable_disable_lora\u001b[0m\u001b[0;34m(\u001b[0m\u001b[0menabled\u001b[0m\u001b[0;34m=\u001b[0m\u001b[0;32mFalse\u001b[0m\u001b[0;34m)\u001b[0m\u001b[0;34m\u001b[0m\u001b[0;34m\u001b[0m\u001b[0m\n\u001b[0m\u001b[1;32m      2\u001b[0m \u001b[0;34m\u001b[0m\u001b[0m\n\u001b[1;32m      3\u001b[0m \u001b[0mcorrect\u001b[0m\u001b[0;34m,\u001b[0m \u001b[0mtotal\u001b[0m\u001b[0;34m,\u001b[0m \u001b[0mwrong_counts\u001b[0m \u001b[0;34m=\u001b[0m \u001b[0mtest\u001b[0m\u001b[0;34m(\u001b[0m\u001b[0mnetModel\u001b[0m\u001b[0;34m,\u001b[0m \u001b[0mtest_loader\u001b[0m\u001b[0;34m)\u001b[0m\u001b[0;34m\u001b[0m\u001b[0;34m\u001b[0m\u001b[0m\n\u001b[1;32m      4\u001b[0m \u001b[0mprint\u001b[0m\u001b[0;34m(\u001b[0m\u001b[0;34mf\"\\n\\nAccuracy: {round(correct/total, 3)}\"\u001b[0m\u001b[0;34m)\u001b[0m\u001b[0;34m\u001b[0m\u001b[0;34m\u001b[0m\u001b[0m\n\u001b[1;32m      5\u001b[0m \u001b[0;32mfor\u001b[0m \u001b[0mi\u001b[0m \u001b[0;32min\u001b[0m \u001b[0mrange\u001b[0m\u001b[0;34m(\u001b[0m\u001b[0mlen\u001b[0m\u001b[0;34m(\u001b[0m\u001b[0mwrong_counts\u001b[0m\u001b[0;34m)\u001b[0m\u001b[0;34m)\u001b[0m\u001b[0;34m:\u001b[0m\u001b[0;34m\u001b[0m\u001b[0;34m\u001b[0m\u001b[0m\n",
            "\u001b[0;32m<ipython-input-43-d2cee75386f1>\u001b[0m in \u001b[0;36menable_disable_lora\u001b[0;34m(enabled)\u001b[0m\n\u001b[1;32m      1\u001b[0m \u001b[0;32mdef\u001b[0m \u001b[0menable_disable_lora\u001b[0m\u001b[0;34m(\u001b[0m\u001b[0menabled\u001b[0m\u001b[0;34m=\u001b[0m\u001b[0;32mTrue\u001b[0m\u001b[0;34m)\u001b[0m\u001b[0;34m:\u001b[0m\u001b[0;34m\u001b[0m\u001b[0;34m\u001b[0m\u001b[0m\n\u001b[1;32m      2\u001b[0m   \u001b[0;32mfor\u001b[0m \u001b[0mlayer\u001b[0m \u001b[0;32min\u001b[0m \u001b[0;34m[\u001b[0m\u001b[0mnetModel\u001b[0m\u001b[0;34m.\u001b[0m\u001b[0mlayerOne\u001b[0m\u001b[0;34m,\u001b[0m \u001b[0mnetModel\u001b[0m\u001b[0;34m.\u001b[0m\u001b[0mlayerTwo\u001b[0m\u001b[0;34m,\u001b[0m \u001b[0mnetModel\u001b[0m\u001b[0;34m.\u001b[0m\u001b[0mlayerThree\u001b[0m\u001b[0;34m]\u001b[0m\u001b[0;34m:\u001b[0m\u001b[0;34m\u001b[0m\u001b[0;34m\u001b[0m\u001b[0m\n\u001b[0;32m----> 3\u001b[0;31m     \u001b[0mlayer\u001b[0m\u001b[0;34m.\u001b[0m\u001b[0mparameterization\u001b[0m\u001b[0;34m[\u001b[0m\u001b[0;34m'weight'\u001b[0m\u001b[0;34m]\u001b[0m\u001b[0;34m[\u001b[0m\u001b[0;36m0\u001b[0m\u001b[0;34m]\u001b[0m\u001b[0;34m.\u001b[0m\u001b[0menabled\u001b[0m \u001b[0;34m=\u001b[0m \u001b[0;32mTrue\u001b[0m\u001b[0;34m\u001b[0m\u001b[0;34m\u001b[0m\u001b[0m\n\u001b[0m",
            "\u001b[0;32m/usr/local/lib/python3.10/dist-packages/torch/nn/modules/module.py\u001b[0m in \u001b[0;36m__getattr__\u001b[0;34m(self, name)\u001b[0m\n\u001b[1;32m   1693\u001b[0m             \u001b[0;32mif\u001b[0m \u001b[0mname\u001b[0m \u001b[0;32min\u001b[0m \u001b[0mmodules\u001b[0m\u001b[0;34m:\u001b[0m\u001b[0;34m\u001b[0m\u001b[0;34m\u001b[0m\u001b[0m\n\u001b[1;32m   1694\u001b[0m                 \u001b[0;32mreturn\u001b[0m \u001b[0mmodules\u001b[0m\u001b[0;34m[\u001b[0m\u001b[0mname\u001b[0m\u001b[0;34m]\u001b[0m\u001b[0;34m\u001b[0m\u001b[0;34m\u001b[0m\u001b[0m\n\u001b[0;32m-> 1695\u001b[0;31m         \u001b[0;32mraise\u001b[0m \u001b[0mAttributeError\u001b[0m\u001b[0;34m(\u001b[0m\u001b[0;34mf\"'{type(self).__name__}' object has no attribute '{name}'\"\u001b[0m\u001b[0;34m)\u001b[0m\u001b[0;34m\u001b[0m\u001b[0;34m\u001b[0m\u001b[0m\n\u001b[0m\u001b[1;32m   1696\u001b[0m \u001b[0;34m\u001b[0m\u001b[0m\n\u001b[1;32m   1697\u001b[0m     \u001b[0;32mdef\u001b[0m \u001b[0m__setattr__\u001b[0m\u001b[0;34m(\u001b[0m\u001b[0mself\u001b[0m\u001b[0;34m,\u001b[0m \u001b[0mname\u001b[0m\u001b[0;34m:\u001b[0m \u001b[0mstr\u001b[0m\u001b[0;34m,\u001b[0m \u001b[0mvalue\u001b[0m\u001b[0;34m:\u001b[0m \u001b[0mUnion\u001b[0m\u001b[0;34m[\u001b[0m\u001b[0mTensor\u001b[0m\u001b[0;34m,\u001b[0m \u001b[0;34m'Module'\u001b[0m\u001b[0;34m]\u001b[0m\u001b[0;34m)\u001b[0m \u001b[0;34m->\u001b[0m \u001b[0;32mNone\u001b[0m\u001b[0;34m:\u001b[0m\u001b[0;34m\u001b[0m\u001b[0;34m\u001b[0m\u001b[0m\n",
            "\u001b[0;31mAttributeError\u001b[0m: 'ParametrizedLinear' object has no attribute 'parameterization'"
          ]
        }
      ]
    },
    {
      "cell_type": "code",
      "source": [
        "netModel.layerOne.parametrizations.weight.original"
      ],
      "metadata": {
        "colab": {
          "base_uri": "https://localhost:8080/"
        },
        "id": "ZgoaVo8cG5Ln",
        "outputId": "f02c07bc-8661-4688-a227-fde251958248"
      },
      "execution_count": 50,
      "outputs": [
        {
          "output_type": "execute_result",
          "data": {
            "text/plain": [
              "Parameter containing:\n",
              "tensor([[-0.0050,  0.0145, -0.0341,  ...,  0.0172, -0.0010, -0.0026],\n",
              "        [ 0.0081,  0.0129,  0.0174,  ...,  0.0076,  0.0219, -0.0021],\n",
              "        [ 0.0295,  0.0646,  0.0164,  ...,  0.0293,  0.0508,  0.0577],\n",
              "        ...,\n",
              "        [-0.0005,  0.0631,  0.0613,  ...,  0.0303,  0.0564,  0.0039],\n",
              "        [ 0.0624,  0.0257,  0.0114,  ...,  0.0457,  0.0393,  0.0401],\n",
              "        [ 0.0078, -0.0159,  0.0353,  ...,  0.0447,  0.0181,  0.0285]],\n",
              "       requires_grad=True)"
            ]
          },
          "metadata": {},
          "execution_count": 50
        }
      ]
    },
    {
      "cell_type": "code",
      "source": [
        "original_weights['layerOne.weight']"
      ],
      "metadata": {
        "colab": {
          "base_uri": "https://localhost:8080/"
        },
        "id": "tlY1z7K-MMMD",
        "outputId": "8a40773d-d085-4093-d4bf-1fccb1e640f0"
      },
      "execution_count": 51,
      "outputs": [
        {
          "output_type": "execute_result",
          "data": {
            "text/plain": [
              "tensor([[ 0.0041,  0.0235, -0.0251,  ...,  0.0263,  0.0081,  0.0064],\n",
              "        [ 0.0081,  0.0129,  0.0174,  ...,  0.0076,  0.0219, -0.0021],\n",
              "        [ 0.0295,  0.0646,  0.0164,  ...,  0.0293,  0.0508,  0.0577],\n",
              "        ...,\n",
              "        [-0.0005,  0.0631,  0.0613,  ...,  0.0303,  0.0564,  0.0039],\n",
              "        [ 0.0625,  0.0257,  0.0115,  ...,  0.0458,  0.0394,  0.0402],\n",
              "        [ 0.0078, -0.0159,  0.0353,  ...,  0.0447,  0.0181,  0.0285]])"
            ]
          },
          "metadata": {},
          "execution_count": 51
        }
      ]
    },
    {
      "cell_type": "code",
      "source": [
        "netModel.layerOne.parametrizations.weight.original"
      ],
      "metadata": {
        "colab": {
          "base_uri": "https://localhost:8080/"
        },
        "id": "WbR3PjyeMUN_",
        "outputId": "469956db-b81d-4594-8e7a-71d33c70a031"
      },
      "execution_count": 52,
      "outputs": [
        {
          "output_type": "execute_result",
          "data": {
            "text/plain": [
              "Parameter containing:\n",
              "tensor([[-0.0050,  0.0145, -0.0341,  ...,  0.0172, -0.0010, -0.0026],\n",
              "        [ 0.0081,  0.0129,  0.0174,  ...,  0.0076,  0.0219, -0.0021],\n",
              "        [ 0.0295,  0.0646,  0.0164,  ...,  0.0293,  0.0508,  0.0577],\n",
              "        ...,\n",
              "        [-0.0005,  0.0631,  0.0613,  ...,  0.0303,  0.0564,  0.0039],\n",
              "        [ 0.0624,  0.0257,  0.0114,  ...,  0.0457,  0.0393,  0.0401],\n",
              "        [ 0.0078, -0.0159,  0.0353,  ...,  0.0447,  0.0181,  0.0285]],\n",
              "       requires_grad=True)"
            ]
          },
          "metadata": {},
          "execution_count": 52
        }
      ]
    },
    {
      "cell_type": "code",
      "source": [],
      "metadata": {
        "id": "cij_WgmkM3Xa"
      },
      "execution_count": null,
      "outputs": []
    }
  ]
}